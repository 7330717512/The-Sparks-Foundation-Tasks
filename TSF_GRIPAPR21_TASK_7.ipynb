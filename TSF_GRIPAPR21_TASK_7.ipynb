{
  "nbformat": 4,
  "nbformat_minor": 0,
  "metadata": {
    "colab": {
      "name": "TSF_GRIPAPR21_TASK_7.ipynb",
      "provenance": [],
      "collapsed_sections": [],
      "mount_file_id": "1DFhEFXCHj40PGKNxZFEWwK-97JgL0V4P",
      "authorship_tag": "ABX9TyO/OrQ0i4L983WsP8R624zP",
      "include_colab_link": true
    },
    "kernelspec": {
      "name": "python3",
      "display_name": "Python 3"
    },
    "language_info": {
      "name": "python"
    }
  },
  "cells": [
    {
      "cell_type": "markdown",
      "metadata": {
        "id": "view-in-github",
        "colab_type": "text"
      },
      "source": [
        "<a href=\"https://colab.research.google.com/github/7330717512/The-Sparks-Foundation-Tasks/blob/main/TSF_GRIPAPR21_TASK_7.ipynb\" target=\"_parent\"><img src=\"https://colab.research.google.com/assets/colab-badge.svg\" alt=\"Open In Colab\"/></a>"
      ]
    },
    {
      "cell_type": "markdown",
      "metadata": {
        "id": "xnG05njOcDNI"
      },
      "source": [
        "**AUTHOR:- UPRE VINOD**"
      ]
    },
    {
      "cell_type": "markdown",
      "metadata": {
        "id": "OmoH5_pEbS3X"
      },
      "source": [
        "**TASK:- STOCK MARKET PRICE PREDICTION USING NUMERICAL AND TEXTUAL ANALYSIS**"
      ]
    },
    {
      "cell_type": "markdown",
      "metadata": {
        "id": "1lfVjK48bl9M"
      },
      "source": [
        "**GIVEN BY:- THE SPARKS FOUNDATION**"
      ]
    },
    {
      "cell_type": "markdown",
      "metadata": {
        "id": "SVPfVuuYcP1i"
      },
      "source": [
        "**GRIP PROGRAM, DATA SCIENCE AND BUSINESS ANALYTICS INTERN**"
      ]
    },
    {
      "cell_type": "code",
      "metadata": {
        "id": "KuKy47YUbzql"
      },
      "source": [
        "#Importing datasets that is \"tesla stocks from yahoo finance\" and \"india news headlines from\" this link https://bit.ly/36fFPI6"
      ],
      "execution_count": null,
      "outputs": []
    },
    {
      "cell_type": "code",
      "metadata": {
        "id": "ec3h5190gcCV"
      },
      "source": [
        "import pandas as pd\n",
        "import numpy as np"
      ],
      "execution_count": null,
      "outputs": []
    },
    {
      "cell_type": "code",
      "metadata": {
        "id": "Ys8GIkVKbpF4"
      },
      "source": [
        "url=\"https://dataverse.harvard.edu/api/access/datafile/4439522\"\n",
        "tesla = pd.read_csv('/content/drive/MyDrive/TSLA.csv')\n",
        "news = pd.read_csv(url)"
      ],
      "execution_count": null,
      "outputs": []
    },
    {
      "cell_type": "code",
      "metadata": {
        "id": "r8Gunhl7bkGB"
      },
      "source": [
        "# importing required libraries\n",
        "import warnings\n",
        "warnings.filterwarnings('ignore')\n",
        "\n",
        "import math\n",
        "import matplotlib.pyplot as plt\n",
        "import seaborn as sns\n",
        "\n",
        "from keras.models import Sequential\n",
        "from keras.layers import Dense, LSTM, Dropout, Activation\n",
        "\n",
        "import nltk\n",
        "from nltk.classify import NaiveBayesClassifier\n",
        "from nltk.corpus import subjectivity\n",
        "from nltk.sentiment import SentimentAnalyzer\n",
        "from nltk.sentiment.util import *\n",
        "\n",
        "from sklearn import preprocessing, metrics\n",
        "from sklearn.preprocessing import MinMaxScaler"
      ],
      "execution_count": null,
      "outputs": []
    },
    {
      "cell_type": "code",
      "metadata": {
        "colab": {
          "base_uri": "https://localhost:8080/",
          "height": 204
        },
        "id": "_c0TwGu-ifU4",
        "outputId": "117b43d0-387a-4edb-a3e1-2b792aa4bf0b"
      },
      "source": [
        "#displaying datasets\n",
        "tesla.head()"
      ],
      "execution_count": null,
      "outputs": [
        {
          "output_type": "execute_result",
          "data": {
            "text/html": [
              "<div>\n",
              "<style scoped>\n",
              "    .dataframe tbody tr th:only-of-type {\n",
              "        vertical-align: middle;\n",
              "    }\n",
              "\n",
              "    .dataframe tbody tr th {\n",
              "        vertical-align: top;\n",
              "    }\n",
              "\n",
              "    .dataframe thead th {\n",
              "        text-align: right;\n",
              "    }\n",
              "</style>\n",
              "<table border=\"1\" class=\"dataframe\">\n",
              "  <thead>\n",
              "    <tr style=\"text-align: right;\">\n",
              "      <th></th>\n",
              "      <th>Date</th>\n",
              "      <th>Open</th>\n",
              "      <th>High</th>\n",
              "      <th>Low</th>\n",
              "      <th>Close</th>\n",
              "      <th>Adj Close</th>\n",
              "      <th>Volume</th>\n",
              "    </tr>\n",
              "  </thead>\n",
              "  <tbody>\n",
              "    <tr>\n",
              "      <th>0</th>\n",
              "      <td>2011-01-03</td>\n",
              "      <td>5.368</td>\n",
              "      <td>5.400</td>\n",
              "      <td>5.180</td>\n",
              "      <td>5.324</td>\n",
              "      <td>5.324</td>\n",
              "      <td>6415000</td>\n",
              "    </tr>\n",
              "    <tr>\n",
              "      <th>1</th>\n",
              "      <td>2011-01-04</td>\n",
              "      <td>5.332</td>\n",
              "      <td>5.390</td>\n",
              "      <td>5.204</td>\n",
              "      <td>5.334</td>\n",
              "      <td>5.334</td>\n",
              "      <td>5937000</td>\n",
              "    </tr>\n",
              "    <tr>\n",
              "      <th>2</th>\n",
              "      <td>2011-01-05</td>\n",
              "      <td>5.296</td>\n",
              "      <td>5.380</td>\n",
              "      <td>5.238</td>\n",
              "      <td>5.366</td>\n",
              "      <td>5.366</td>\n",
              "      <td>7233500</td>\n",
              "    </tr>\n",
              "    <tr>\n",
              "      <th>3</th>\n",
              "      <td>2011-01-06</td>\n",
              "      <td>5.366</td>\n",
              "      <td>5.600</td>\n",
              "      <td>5.362</td>\n",
              "      <td>5.576</td>\n",
              "      <td>5.576</td>\n",
              "      <td>10306000</td>\n",
              "    </tr>\n",
              "    <tr>\n",
              "      <th>4</th>\n",
              "      <td>2011-01-07</td>\n",
              "      <td>5.600</td>\n",
              "      <td>5.716</td>\n",
              "      <td>5.580</td>\n",
              "      <td>5.648</td>\n",
              "      <td>5.648</td>\n",
              "      <td>11239500</td>\n",
              "    </tr>\n",
              "  </tbody>\n",
              "</table>\n",
              "</div>"
            ],
            "text/plain": [
              "         Date   Open   High    Low  Close  Adj Close    Volume\n",
              "0  2011-01-03  5.368  5.400  5.180  5.324      5.324   6415000\n",
              "1  2011-01-04  5.332  5.390  5.204  5.334      5.334   5937000\n",
              "2  2011-01-05  5.296  5.380  5.238  5.366      5.366   7233500\n",
              "3  2011-01-06  5.366  5.600  5.362  5.576      5.576  10306000\n",
              "4  2011-01-07  5.600  5.716  5.580  5.648      5.648  11239500"
            ]
          },
          "metadata": {
            "tags": []
          },
          "execution_count": 5
        }
      ]
    },
    {
      "cell_type": "code",
      "metadata": {
        "colab": {
          "base_uri": "https://localhost:8080/",
          "height": 204
        },
        "id": "K9L9s1pzifNf",
        "outputId": "e8e5a7af-5454-4c8d-a811-5b9d5c09715f"
      },
      "source": [
        "tesla.tail()"
      ],
      "execution_count": null,
      "outputs": [
        {
          "output_type": "execute_result",
          "data": {
            "text/html": [
              "<div>\n",
              "<style scoped>\n",
              "    .dataframe tbody tr th:only-of-type {\n",
              "        vertical-align: middle;\n",
              "    }\n",
              "\n",
              "    .dataframe tbody tr th {\n",
              "        vertical-align: top;\n",
              "    }\n",
              "\n",
              "    .dataframe thead th {\n",
              "        text-align: right;\n",
              "    }\n",
              "</style>\n",
              "<table border=\"1\" class=\"dataframe\">\n",
              "  <thead>\n",
              "    <tr style=\"text-align: right;\">\n",
              "      <th></th>\n",
              "      <th>Date</th>\n",
              "      <th>Open</th>\n",
              "      <th>High</th>\n",
              "      <th>Low</th>\n",
              "      <th>Close</th>\n",
              "      <th>Adj Close</th>\n",
              "      <th>Volume</th>\n",
              "    </tr>\n",
              "  </thead>\n",
              "  <tbody>\n",
              "    <tr>\n",
              "      <th>2579</th>\n",
              "      <td>2021-04-05</td>\n",
              "      <td>707.710022</td>\n",
              "      <td>708.159973</td>\n",
              "      <td>684.700012</td>\n",
              "      <td>691.049988</td>\n",
              "      <td>691.049988</td>\n",
              "      <td>41842800</td>\n",
              "    </tr>\n",
              "    <tr>\n",
              "      <th>2580</th>\n",
              "      <td>2021-04-06</td>\n",
              "      <td>690.299988</td>\n",
              "      <td>696.549988</td>\n",
              "      <td>681.369995</td>\n",
              "      <td>691.619995</td>\n",
              "      <td>691.619995</td>\n",
              "      <td>28271800</td>\n",
              "    </tr>\n",
              "    <tr>\n",
              "      <th>2581</th>\n",
              "      <td>2021-04-07</td>\n",
              "      <td>687.000000</td>\n",
              "      <td>691.380005</td>\n",
              "      <td>667.840027</td>\n",
              "      <td>670.969971</td>\n",
              "      <td>670.969971</td>\n",
              "      <td>26309400</td>\n",
              "    </tr>\n",
              "    <tr>\n",
              "      <th>2582</th>\n",
              "      <td>2021-04-08</td>\n",
              "      <td>677.380005</td>\n",
              "      <td>689.549988</td>\n",
              "      <td>671.650024</td>\n",
              "      <td>683.799988</td>\n",
              "      <td>683.799988</td>\n",
              "      <td>23924300</td>\n",
              "    </tr>\n",
              "    <tr>\n",
              "      <th>2583</th>\n",
              "      <td>2021-04-09</td>\n",
              "      <td>677.770020</td>\n",
              "      <td>680.969971</td>\n",
              "      <td>669.429993</td>\n",
              "      <td>677.020020</td>\n",
              "      <td>677.020020</td>\n",
              "      <td>21402600</td>\n",
              "    </tr>\n",
              "  </tbody>\n",
              "</table>\n",
              "</div>"
            ],
            "text/plain": [
              "            Date        Open        High  ...       Close   Adj Close    Volume\n",
              "2579  2021-04-05  707.710022  708.159973  ...  691.049988  691.049988  41842800\n",
              "2580  2021-04-06  690.299988  696.549988  ...  691.619995  691.619995  28271800\n",
              "2581  2021-04-07  687.000000  691.380005  ...  670.969971  670.969971  26309400\n",
              "2582  2021-04-08  677.380005  689.549988  ...  683.799988  683.799988  23924300\n",
              "2583  2021-04-09  677.770020  680.969971  ...  677.020020  677.020020  21402600\n",
              "\n",
              "[5 rows x 7 columns]"
            ]
          },
          "metadata": {
            "tags": []
          },
          "execution_count": 6
        }
      ]
    },
    {
      "cell_type": "code",
      "metadata": {
        "colab": {
          "base_uri": "https://localhost:8080/",
          "height": 204
        },
        "id": "nF3c81A8ifEZ",
        "outputId": "1ec8e14f-e13b-4a66-bd20-e9bfacea016f"
      },
      "source": [
        "news.head()"
      ],
      "execution_count": null,
      "outputs": [
        {
          "output_type": "execute_result",
          "data": {
            "text/html": [
              "<div>\n",
              "<style scoped>\n",
              "    .dataframe tbody tr th:only-of-type {\n",
              "        vertical-align: middle;\n",
              "    }\n",
              "\n",
              "    .dataframe tbody tr th {\n",
              "        vertical-align: top;\n",
              "    }\n",
              "\n",
              "    .dataframe thead th {\n",
              "        text-align: right;\n",
              "    }\n",
              "</style>\n",
              "<table border=\"1\" class=\"dataframe\">\n",
              "  <thead>\n",
              "    <tr style=\"text-align: right;\">\n",
              "      <th></th>\n",
              "      <th>publish_date</th>\n",
              "      <th>headline_category</th>\n",
              "      <th>headline_text</th>\n",
              "    </tr>\n",
              "  </thead>\n",
              "  <tbody>\n",
              "    <tr>\n",
              "      <th>0</th>\n",
              "      <td>20010102</td>\n",
              "      <td>unknown</td>\n",
              "      <td>Status quo will not be disturbed at Ayodhya; s...</td>\n",
              "    </tr>\n",
              "    <tr>\n",
              "      <th>1</th>\n",
              "      <td>20010102</td>\n",
              "      <td>unknown</td>\n",
              "      <td>Fissures in Hurriyat over Pak visit</td>\n",
              "    </tr>\n",
              "    <tr>\n",
              "      <th>2</th>\n",
              "      <td>20010102</td>\n",
              "      <td>unknown</td>\n",
              "      <td>America's unwanted heading for India?</td>\n",
              "    </tr>\n",
              "    <tr>\n",
              "      <th>3</th>\n",
              "      <td>20010102</td>\n",
              "      <td>unknown</td>\n",
              "      <td>For bigwigs; it is destination Goa</td>\n",
              "    </tr>\n",
              "    <tr>\n",
              "      <th>4</th>\n",
              "      <td>20010102</td>\n",
              "      <td>unknown</td>\n",
              "      <td>Extra buses to clear tourist traffic</td>\n",
              "    </tr>\n",
              "  </tbody>\n",
              "</table>\n",
              "</div>"
            ],
            "text/plain": [
              "   publish_date  ...                                      headline_text\n",
              "0      20010102  ...  Status quo will not be disturbed at Ayodhya; s...\n",
              "1      20010102  ...                Fissures in Hurriyat over Pak visit\n",
              "2      20010102  ...              America's unwanted heading for India?\n",
              "3      20010102  ...                 For bigwigs; it is destination Goa\n",
              "4      20010102  ...               Extra buses to clear tourist traffic\n",
              "\n",
              "[5 rows x 3 columns]"
            ]
          },
          "metadata": {
            "tags": []
          },
          "execution_count": 7
        }
      ]
    },
    {
      "cell_type": "code",
      "metadata": {
        "colab": {
          "base_uri": "https://localhost:8080/",
          "height": 204
        },
        "id": "gwtUmcVJie46",
        "outputId": "a3b14a27-3433-4297-cafd-96f1639013d9"
      },
      "source": [
        "news.tail()"
      ],
      "execution_count": null,
      "outputs": [
        {
          "output_type": "execute_result",
          "data": {
            "text/html": [
              "<div>\n",
              "<style scoped>\n",
              "    .dataframe tbody tr th:only-of-type {\n",
              "        vertical-align: middle;\n",
              "    }\n",
              "\n",
              "    .dataframe tbody tr th {\n",
              "        vertical-align: top;\n",
              "    }\n",
              "\n",
              "    .dataframe thead th {\n",
              "        text-align: right;\n",
              "    }\n",
              "</style>\n",
              "<table border=\"1\" class=\"dataframe\">\n",
              "  <thead>\n",
              "    <tr style=\"text-align: right;\">\n",
              "      <th></th>\n",
              "      <th>publish_date</th>\n",
              "      <th>headline_category</th>\n",
              "      <th>headline_text</th>\n",
              "    </tr>\n",
              "  </thead>\n",
              "  <tbody>\n",
              "    <tr>\n",
              "      <th>3424062</th>\n",
              "      <td>20201231</td>\n",
              "      <td>city.jodhpur</td>\n",
              "      <td>Covid-19: Despite dip in cases; Rajasthan amon...</td>\n",
              "    </tr>\n",
              "    <tr>\n",
              "      <th>3424063</th>\n",
              "      <td>20201231</td>\n",
              "      <td>city.udaipur</td>\n",
              "      <td>Covid-19: Despite dip in cases; Rajasthan amon...</td>\n",
              "    </tr>\n",
              "    <tr>\n",
              "      <th>3424064</th>\n",
              "      <td>20201231</td>\n",
              "      <td>city.ajmer</td>\n",
              "      <td>Covid-19: Despite dip in cases; Rajasthan amon...</td>\n",
              "    </tr>\n",
              "    <tr>\n",
              "      <th>3424065</th>\n",
              "      <td>20201231</td>\n",
              "      <td>removed</td>\n",
              "      <td>Govt extends deadline for use of FASTag till F...</td>\n",
              "    </tr>\n",
              "    <tr>\n",
              "      <th>3424066</th>\n",
              "      <td>20201231</td>\n",
              "      <td>entertainment.bengali.movies.news</td>\n",
              "      <td>Celebs plan to party safely and responsibly on...</td>\n",
              "    </tr>\n",
              "  </tbody>\n",
              "</table>\n",
              "</div>"
            ],
            "text/plain": [
              "         publish_date  ...                                      headline_text\n",
              "3424062      20201231  ...  Covid-19: Despite dip in cases; Rajasthan amon...\n",
              "3424063      20201231  ...  Covid-19: Despite dip in cases; Rajasthan amon...\n",
              "3424064      20201231  ...  Covid-19: Despite dip in cases; Rajasthan amon...\n",
              "3424065      20201231  ...  Govt extends deadline for use of FASTag till F...\n",
              "3424066      20201231  ...  Celebs plan to party safely and responsibly on...\n",
              "\n",
              "[5 rows x 3 columns]"
            ]
          },
          "metadata": {
            "tags": []
          },
          "execution_count": 8
        }
      ]
    },
    {
      "cell_type": "markdown",
      "metadata": {
        "id": "On93dlXUnI4o"
      },
      "source": [
        "**Feature Engineering**"
      ]
    },
    {
      "cell_type": "code",
      "metadata": {
        "colab": {
          "base_uri": "https://localhost:8080/"
        },
        "id": "2YOYatlGnFu1",
        "outputId": "6471b088-b3e9-47a1-f923-2107b5c67f4a"
      },
      "source": [
        "#displaying number of records in each datasets\n",
        "len(tesla), len(news)"
      ],
      "execution_count": null,
      "outputs": [
        {
          "output_type": "execute_result",
          "data": {
            "text/plain": [
              "(2584, 3424067)"
            ]
          },
          "metadata": {
            "tags": []
          },
          "execution_count": 9
        }
      ]
    },
    {
      "cell_type": "code",
      "metadata": {
        "colab": {
          "base_uri": "https://localhost:8080/"
        },
        "id": "dzr70wPSnFq5",
        "outputId": "38515a62-dc63-440e-da6d-a9ba8371032c"
      },
      "source": [
        "#checking null values\n",
        "tesla.isna().any(), news.isna().any()"
      ],
      "execution_count": null,
      "outputs": [
        {
          "output_type": "execute_result",
          "data": {
            "text/plain": [
              "(Date         False\n",
              " Open         False\n",
              " High         False\n",
              " Low          False\n",
              " Close        False\n",
              " Adj Close    False\n",
              " Volume       False\n",
              " dtype: bool, publish_date         False\n",
              " headline_category    False\n",
              " headline_text        False\n",
              " dtype: bool)"
            ]
          },
          "metadata": {
            "tags": []
          },
          "execution_count": 10
        }
      ]
    },
    {
      "cell_type": "code",
      "metadata": {
        "colab": {
          "base_uri": "https://localhost:8080/",
          "height": 450
        },
        "id": "QUrqfKAynFgv",
        "outputId": "b39d75cf-b491-4c66-cf9f-5dfeb3e4cd6c"
      },
      "source": [
        "##tesla dataframe\n",
        "\n",
        "#dropping duplicates\n",
        "tesla = tesla.drop_duplicates()\n",
        "\n",
        "#converting the 'Date' column from object to Datetime\n",
        "tesla['Date'] = pd.to_datetime(tesla['Date']).dt.normalize()\n",
        "\n",
        "##filtering the important columns required\n",
        "tesla = tesla.filter(['Date', 'Close','Open', 'High', 'Low', 'Volume'])\n",
        "\n",
        "#setting column 'Date' as the index column\n",
        "tesla.set_index('Date', inplace=True)\n",
        "\n",
        "#sorting the data according to the index \n",
        "tesla = tesla.sort_index(ascending=True, axis=0)\n",
        "\n",
        "tesla"
      ],
      "execution_count": null,
      "outputs": [
        {
          "output_type": "execute_result",
          "data": {
            "text/html": [
              "<div>\n",
              "<style scoped>\n",
              "    .dataframe tbody tr th:only-of-type {\n",
              "        vertical-align: middle;\n",
              "    }\n",
              "\n",
              "    .dataframe tbody tr th {\n",
              "        vertical-align: top;\n",
              "    }\n",
              "\n",
              "    .dataframe thead th {\n",
              "        text-align: right;\n",
              "    }\n",
              "</style>\n",
              "<table border=\"1\" class=\"dataframe\">\n",
              "  <thead>\n",
              "    <tr style=\"text-align: right;\">\n",
              "      <th></th>\n",
              "      <th>Close</th>\n",
              "      <th>Open</th>\n",
              "      <th>High</th>\n",
              "      <th>Low</th>\n",
              "      <th>Volume</th>\n",
              "    </tr>\n",
              "    <tr>\n",
              "      <th>Date</th>\n",
              "      <th></th>\n",
              "      <th></th>\n",
              "      <th></th>\n",
              "      <th></th>\n",
              "      <th></th>\n",
              "    </tr>\n",
              "  </thead>\n",
              "  <tbody>\n",
              "    <tr>\n",
              "      <th>2011-01-03</th>\n",
              "      <td>5.324000</td>\n",
              "      <td>5.368000</td>\n",
              "      <td>5.400000</td>\n",
              "      <td>5.180000</td>\n",
              "      <td>6415000</td>\n",
              "    </tr>\n",
              "    <tr>\n",
              "      <th>2011-01-04</th>\n",
              "      <td>5.334000</td>\n",
              "      <td>5.332000</td>\n",
              "      <td>5.390000</td>\n",
              "      <td>5.204000</td>\n",
              "      <td>5937000</td>\n",
              "    </tr>\n",
              "    <tr>\n",
              "      <th>2011-01-05</th>\n",
              "      <td>5.366000</td>\n",
              "      <td>5.296000</td>\n",
              "      <td>5.380000</td>\n",
              "      <td>5.238000</td>\n",
              "      <td>7233500</td>\n",
              "    </tr>\n",
              "    <tr>\n",
              "      <th>2011-01-06</th>\n",
              "      <td>5.576000</td>\n",
              "      <td>5.366000</td>\n",
              "      <td>5.600000</td>\n",
              "      <td>5.362000</td>\n",
              "      <td>10306000</td>\n",
              "    </tr>\n",
              "    <tr>\n",
              "      <th>2011-01-07</th>\n",
              "      <td>5.648000</td>\n",
              "      <td>5.600000</td>\n",
              "      <td>5.716000</td>\n",
              "      <td>5.580000</td>\n",
              "      <td>11239500</td>\n",
              "    </tr>\n",
              "    <tr>\n",
              "      <th>...</th>\n",
              "      <td>...</td>\n",
              "      <td>...</td>\n",
              "      <td>...</td>\n",
              "      <td>...</td>\n",
              "      <td>...</td>\n",
              "    </tr>\n",
              "    <tr>\n",
              "      <th>2021-04-05</th>\n",
              "      <td>691.049988</td>\n",
              "      <td>707.710022</td>\n",
              "      <td>708.159973</td>\n",
              "      <td>684.700012</td>\n",
              "      <td>41842800</td>\n",
              "    </tr>\n",
              "    <tr>\n",
              "      <th>2021-04-06</th>\n",
              "      <td>691.619995</td>\n",
              "      <td>690.299988</td>\n",
              "      <td>696.549988</td>\n",
              "      <td>681.369995</td>\n",
              "      <td>28271800</td>\n",
              "    </tr>\n",
              "    <tr>\n",
              "      <th>2021-04-07</th>\n",
              "      <td>670.969971</td>\n",
              "      <td>687.000000</td>\n",
              "      <td>691.380005</td>\n",
              "      <td>667.840027</td>\n",
              "      <td>26309400</td>\n",
              "    </tr>\n",
              "    <tr>\n",
              "      <th>2021-04-08</th>\n",
              "      <td>683.799988</td>\n",
              "      <td>677.380005</td>\n",
              "      <td>689.549988</td>\n",
              "      <td>671.650024</td>\n",
              "      <td>23924300</td>\n",
              "    </tr>\n",
              "    <tr>\n",
              "      <th>2021-04-09</th>\n",
              "      <td>677.020020</td>\n",
              "      <td>677.770020</td>\n",
              "      <td>680.969971</td>\n",
              "      <td>669.429993</td>\n",
              "      <td>21402600</td>\n",
              "    </tr>\n",
              "  </tbody>\n",
              "</table>\n",
              "<p>2584 rows × 5 columns</p>\n",
              "</div>"
            ],
            "text/plain": [
              "                 Close        Open        High         Low    Volume\n",
              "Date                                                                \n",
              "2011-01-03    5.324000    5.368000    5.400000    5.180000   6415000\n",
              "2011-01-04    5.334000    5.332000    5.390000    5.204000   5937000\n",
              "2011-01-05    5.366000    5.296000    5.380000    5.238000   7233500\n",
              "2011-01-06    5.576000    5.366000    5.600000    5.362000  10306000\n",
              "2011-01-07    5.648000    5.600000    5.716000    5.580000  11239500\n",
              "...                ...         ...         ...         ...       ...\n",
              "2021-04-05  691.049988  707.710022  708.159973  684.700012  41842800\n",
              "2021-04-06  691.619995  690.299988  696.549988  681.369995  28271800\n",
              "2021-04-07  670.969971  687.000000  691.380005  667.840027  26309400\n",
              "2021-04-08  683.799988  677.380005  689.549988  671.650024  23924300\n",
              "2021-04-09  677.020020  677.770020  680.969971  669.429993  21402600\n",
              "\n",
              "[2584 rows x 5 columns]"
            ]
          },
          "metadata": {
            "tags": []
          },
          "execution_count": 11
        }
      ]
    },
    {
      "cell_type": "code",
      "metadata": {
        "colab": {
          "base_uri": "https://localhost:8080/",
          "height": 450
        },
        "id": "T4H055MlnFaG",
        "outputId": "37ec2238-2d04-4275-9273-60e81543cfab"
      },
      "source": [
        "##news dataframe\n",
        "\n",
        "#dropping duplicates\n",
        "news = news.drop_duplicates()\n",
        "\n",
        "#converting the publishdate into datetime datatype\n",
        "news['publish_date'] = news['publish_date'].astype(str)\n",
        "news['publish_date'] = news['publish_date'].apply(lambda x: x[0:4]+'-'+x[4:6]+'-'+x[6:8])\n",
        "news['publish_date'] = pd.to_datetime(news['publish_date']).dt.normalize()\n",
        "\n",
        "#filtering the important columns required\n",
        "news = news.filter(['publish_date', 'headline_text'])\n",
        "\n",
        "#gruoping the news headlines by date\n",
        "news = news.groupby(['publish_date'])['headline_text'].apply(lambda x: ','.join(x)).reset_index()\n",
        "\n",
        "#setting column 'Date' as the index column\n",
        "news.set_index('publish_date', inplace=True)\n",
        "\n",
        "#sorting the data according to the index\n",
        "news = news.sort_index(ascending=True, axis=0)\n",
        "news"
      ],
      "execution_count": null,
      "outputs": [
        {
          "output_type": "execute_result",
          "data": {
            "text/html": [
              "<div>\n",
              "<style scoped>\n",
              "    .dataframe tbody tr th:only-of-type {\n",
              "        vertical-align: middle;\n",
              "    }\n",
              "\n",
              "    .dataframe tbody tr th {\n",
              "        vertical-align: top;\n",
              "    }\n",
              "\n",
              "    .dataframe thead th {\n",
              "        text-align: right;\n",
              "    }\n",
              "</style>\n",
              "<table border=\"1\" class=\"dataframe\">\n",
              "  <thead>\n",
              "    <tr style=\"text-align: right;\">\n",
              "      <th></th>\n",
              "      <th>headline_text</th>\n",
              "    </tr>\n",
              "    <tr>\n",
              "      <th>publish_date</th>\n",
              "      <th></th>\n",
              "    </tr>\n",
              "  </thead>\n",
              "  <tbody>\n",
              "    <tr>\n",
              "      <th>2001-01-02</th>\n",
              "      <td>Status quo will not be disturbed at Ayodhya; s...</td>\n",
              "    </tr>\n",
              "    <tr>\n",
              "      <th>2001-01-03</th>\n",
              "      <td>Powerless north India gropes in the dark,Think...</td>\n",
              "    </tr>\n",
              "    <tr>\n",
              "      <th>2001-01-04</th>\n",
              "      <td>The string that pulled Stephen Hawking to Indi...</td>\n",
              "    </tr>\n",
              "    <tr>\n",
              "      <th>2001-01-05</th>\n",
              "      <td>Light combat craft takes India into club class...</td>\n",
              "    </tr>\n",
              "    <tr>\n",
              "      <th>2001-01-06</th>\n",
              "      <td>Light combat craft takes India into club class...</td>\n",
              "    </tr>\n",
              "    <tr>\n",
              "      <th>...</th>\n",
              "      <td>...</td>\n",
              "    </tr>\n",
              "    <tr>\n",
              "      <th>2020-12-27</th>\n",
              "      <td>#BigInterview! Dhritiman Chatterjee: Nobody da...</td>\n",
              "    </tr>\n",
              "    <tr>\n",
              "      <th>2020-12-28</th>\n",
              "      <td>Horoscope Today; 28 December 2020: Check astro...</td>\n",
              "    </tr>\n",
              "    <tr>\n",
              "      <th>2020-12-29</th>\n",
              "      <td>Man recovers charred remains of 'thief' from h...</td>\n",
              "    </tr>\n",
              "    <tr>\n",
              "      <th>2020-12-30</th>\n",
              "      <td>Numerology Readings 30 December 2020: Predicti...</td>\n",
              "    </tr>\n",
              "    <tr>\n",
              "      <th>2020-12-31</th>\n",
              "      <td>Horoscope Today; 31 December 2020: Check astro...</td>\n",
              "    </tr>\n",
              "  </tbody>\n",
              "</table>\n",
              "<p>7262 rows × 1 columns</p>\n",
              "</div>"
            ],
            "text/plain": [
              "                                                  headline_text\n",
              "publish_date                                                   \n",
              "2001-01-02    Status quo will not be disturbed at Ayodhya; s...\n",
              "2001-01-03    Powerless north India gropes in the dark,Think...\n",
              "2001-01-04    The string that pulled Stephen Hawking to Indi...\n",
              "2001-01-05    Light combat craft takes India into club class...\n",
              "2001-01-06    Light combat craft takes India into club class...\n",
              "...                                                         ...\n",
              "2020-12-27    #BigInterview! Dhritiman Chatterjee: Nobody da...\n",
              "2020-12-28    Horoscope Today; 28 December 2020: Check astro...\n",
              "2020-12-29    Man recovers charred remains of 'thief' from h...\n",
              "2020-12-30    Numerology Readings 30 December 2020: Predicti...\n",
              "2020-12-31    Horoscope Today; 31 December 2020: Check astro...\n",
              "\n",
              "[7262 rows x 1 columns]"
            ]
          },
          "metadata": {
            "tags": []
          },
          "execution_count": 12
        }
      ]
    },
    {
      "cell_type": "code",
      "metadata": {
        "colab": {
          "base_uri": "https://localhost:8080/",
          "height": 419
        },
        "id": "9yI8b-21vHYO",
        "outputId": "d20c38dd-986d-42d3-b8b0-0323a791a67c"
      },
      "source": [
        "##concatinating the datasets tesla and news\n",
        "combined_data = pd.concat([tesla, news], axis=1)\n",
        "\n",
        "#dropping the null values if any\n",
        "combined_data.dropna(axis=0, inplace=True)\n",
        "\n",
        "#displaying the combined dataset\n",
        "combined_data"
      ],
      "execution_count": null,
      "outputs": [
        {
          "output_type": "execute_result",
          "data": {
            "text/html": [
              "<div>\n",
              "<style scoped>\n",
              "    .dataframe tbody tr th:only-of-type {\n",
              "        vertical-align: middle;\n",
              "    }\n",
              "\n",
              "    .dataframe tbody tr th {\n",
              "        vertical-align: top;\n",
              "    }\n",
              "\n",
              "    .dataframe thead th {\n",
              "        text-align: right;\n",
              "    }\n",
              "</style>\n",
              "<table border=\"1\" class=\"dataframe\">\n",
              "  <thead>\n",
              "    <tr style=\"text-align: right;\">\n",
              "      <th></th>\n",
              "      <th>Close</th>\n",
              "      <th>Open</th>\n",
              "      <th>High</th>\n",
              "      <th>Low</th>\n",
              "      <th>Volume</th>\n",
              "      <th>headline_text</th>\n",
              "    </tr>\n",
              "  </thead>\n",
              "  <tbody>\n",
              "    <tr>\n",
              "      <th>2011-01-03</th>\n",
              "      <td>5.324000</td>\n",
              "      <td>5.36800</td>\n",
              "      <td>5.400000</td>\n",
              "      <td>5.180000</td>\n",
              "      <td>6415000.0</td>\n",
              "      <td>Photo Gallery (Ashes 2010),Your guy needs comp...</td>\n",
              "    </tr>\n",
              "    <tr>\n",
              "      <th>2011-01-04</th>\n",
              "      <td>5.334000</td>\n",
              "      <td>5.33200</td>\n",
              "      <td>5.390000</td>\n",
              "      <td>5.204000</td>\n",
              "      <td>5937000.0</td>\n",
              "      <td>Deepika Padukone,Deepika Padukone,Imran invite...</td>\n",
              "    </tr>\n",
              "    <tr>\n",
              "      <th>2011-01-05</th>\n",
              "      <td>5.366000</td>\n",
              "      <td>5.29600</td>\n",
              "      <td>5.380000</td>\n",
              "      <td>5.238000</td>\n",
              "      <td>7233500.0</td>\n",
              "      <td>Man dies of heart attack after killing lover's...</td>\n",
              "    </tr>\n",
              "    <tr>\n",
              "      <th>2011-01-06</th>\n",
              "      <td>5.576000</td>\n",
              "      <td>5.36600</td>\n",
              "      <td>5.600000</td>\n",
              "      <td>5.362000</td>\n",
              "      <td>10306000.0</td>\n",
              "      <td>Photo Gallery (Indian tour of South Africa),Ra...</td>\n",
              "    </tr>\n",
              "    <tr>\n",
              "      <th>2011-01-07</th>\n",
              "      <td>5.648000</td>\n",
              "      <td>5.60000</td>\n",
              "      <td>5.716000</td>\n",
              "      <td>5.580000</td>\n",
              "      <td>11239500.0</td>\n",
              "      <td>Rishi gives look test for KJo,Tom Hanks to be ...</td>\n",
              "    </tr>\n",
              "    <tr>\n",
              "      <th>...</th>\n",
              "      <td>...</td>\n",
              "      <td>...</td>\n",
              "      <td>...</td>\n",
              "      <td>...</td>\n",
              "      <td>...</td>\n",
              "      <td>...</td>\n",
              "    </tr>\n",
              "    <tr>\n",
              "      <th>2020-12-24</th>\n",
              "      <td>661.770020</td>\n",
              "      <td>642.98999</td>\n",
              "      <td>666.090027</td>\n",
              "      <td>641.000000</td>\n",
              "      <td>22865600.0</td>\n",
              "      <td>How to set the mood for sex during cold winter...</td>\n",
              "    </tr>\n",
              "    <tr>\n",
              "      <th>2020-12-28</th>\n",
              "      <td>663.690002</td>\n",
              "      <td>674.51001</td>\n",
              "      <td>681.400024</td>\n",
              "      <td>660.799988</td>\n",
              "      <td>32278600.0</td>\n",
              "      <td>Horoscope Today; 28 December 2020: Check astro...</td>\n",
              "    </tr>\n",
              "    <tr>\n",
              "      <th>2020-12-29</th>\n",
              "      <td>665.989990</td>\n",
              "      <td>661.00000</td>\n",
              "      <td>669.900024</td>\n",
              "      <td>655.000000</td>\n",
              "      <td>22910800.0</td>\n",
              "      <td>Man recovers charred remains of 'thief' from h...</td>\n",
              "    </tr>\n",
              "    <tr>\n",
              "      <th>2020-12-30</th>\n",
              "      <td>694.780029</td>\n",
              "      <td>672.00000</td>\n",
              "      <td>696.599976</td>\n",
              "      <td>668.359985</td>\n",
              "      <td>42846000.0</td>\n",
              "      <td>Numerology Readings 30 December 2020: Predicti...</td>\n",
              "    </tr>\n",
              "    <tr>\n",
              "      <th>2020-12-31</th>\n",
              "      <td>705.669983</td>\n",
              "      <td>699.98999</td>\n",
              "      <td>718.719971</td>\n",
              "      <td>691.119995</td>\n",
              "      <td>49649900.0</td>\n",
              "      <td>Horoscope Today; 31 December 2020: Check astro...</td>\n",
              "    </tr>\n",
              "  </tbody>\n",
              "</table>\n",
              "<p>2517 rows × 6 columns</p>\n",
              "</div>"
            ],
            "text/plain": [
              "                 Close  ...                                      headline_text\n",
              "2011-01-03    5.324000  ...  Photo Gallery (Ashes 2010),Your guy needs comp...\n",
              "2011-01-04    5.334000  ...  Deepika Padukone,Deepika Padukone,Imran invite...\n",
              "2011-01-05    5.366000  ...  Man dies of heart attack after killing lover's...\n",
              "2011-01-06    5.576000  ...  Photo Gallery (Indian tour of South Africa),Ra...\n",
              "2011-01-07    5.648000  ...  Rishi gives look test for KJo,Tom Hanks to be ...\n",
              "...                ...  ...                                                ...\n",
              "2020-12-24  661.770020  ...  How to set the mood for sex during cold winter...\n",
              "2020-12-28  663.690002  ...  Horoscope Today; 28 December 2020: Check astro...\n",
              "2020-12-29  665.989990  ...  Man recovers charred remains of 'thief' from h...\n",
              "2020-12-30  694.780029  ...  Numerology Readings 30 December 2020: Predicti...\n",
              "2020-12-31  705.669983  ...  Horoscope Today; 31 December 2020: Check astro...\n",
              "\n",
              "[2517 rows x 6 columns]"
            ]
          },
          "metadata": {
            "tags": []
          },
          "execution_count": 15
        }
      ]
    },
    {
      "cell_type": "code",
      "metadata": {
        "colab": {
          "base_uri": "https://localhost:8080/",
          "height": 204
        },
        "id": "StTBi1DOvHSe",
        "outputId": "a744280b-e30f-4499-bc22-b50bcd9c10b5"
      },
      "source": [
        "##calculating sentiment scores\n",
        "\n",
        "combined_data['compound'] = ''\n",
        "combined_data['negative'] = ''\n",
        "combined_data['neutral'] = ''\n",
        "combined_data['positive'] = ''\n",
        "combined_data.head()"
      ],
      "execution_count": null,
      "outputs": [
        {
          "output_type": "execute_result",
          "data": {
            "text/html": [
              "<div>\n",
              "<style scoped>\n",
              "    .dataframe tbody tr th:only-of-type {\n",
              "        vertical-align: middle;\n",
              "    }\n",
              "\n",
              "    .dataframe tbody tr th {\n",
              "        vertical-align: top;\n",
              "    }\n",
              "\n",
              "    .dataframe thead th {\n",
              "        text-align: right;\n",
              "    }\n",
              "</style>\n",
              "<table border=\"1\" class=\"dataframe\">\n",
              "  <thead>\n",
              "    <tr style=\"text-align: right;\">\n",
              "      <th></th>\n",
              "      <th>Close</th>\n",
              "      <th>Open</th>\n",
              "      <th>High</th>\n",
              "      <th>Low</th>\n",
              "      <th>Volume</th>\n",
              "      <th>headline_text</th>\n",
              "      <th>compound</th>\n",
              "      <th>negative</th>\n",
              "      <th>neutral</th>\n",
              "      <th>positive</th>\n",
              "    </tr>\n",
              "  </thead>\n",
              "  <tbody>\n",
              "    <tr>\n",
              "      <th>2011-01-03</th>\n",
              "      <td>5.324</td>\n",
              "      <td>5.368</td>\n",
              "      <td>5.400</td>\n",
              "      <td>5.180</td>\n",
              "      <td>6415000.0</td>\n",
              "      <td>Photo Gallery (Ashes 2010),Your guy needs comp...</td>\n",
              "      <td></td>\n",
              "      <td></td>\n",
              "      <td></td>\n",
              "      <td></td>\n",
              "    </tr>\n",
              "    <tr>\n",
              "      <th>2011-01-04</th>\n",
              "      <td>5.334</td>\n",
              "      <td>5.332</td>\n",
              "      <td>5.390</td>\n",
              "      <td>5.204</td>\n",
              "      <td>5937000.0</td>\n",
              "      <td>Deepika Padukone,Deepika Padukone,Imran invite...</td>\n",
              "      <td></td>\n",
              "      <td></td>\n",
              "      <td></td>\n",
              "      <td></td>\n",
              "    </tr>\n",
              "    <tr>\n",
              "      <th>2011-01-05</th>\n",
              "      <td>5.366</td>\n",
              "      <td>5.296</td>\n",
              "      <td>5.380</td>\n",
              "      <td>5.238</td>\n",
              "      <td>7233500.0</td>\n",
              "      <td>Man dies of heart attack after killing lover's...</td>\n",
              "      <td></td>\n",
              "      <td></td>\n",
              "      <td></td>\n",
              "      <td></td>\n",
              "    </tr>\n",
              "    <tr>\n",
              "      <th>2011-01-06</th>\n",
              "      <td>5.576</td>\n",
              "      <td>5.366</td>\n",
              "      <td>5.600</td>\n",
              "      <td>5.362</td>\n",
              "      <td>10306000.0</td>\n",
              "      <td>Photo Gallery (Indian tour of South Africa),Ra...</td>\n",
              "      <td></td>\n",
              "      <td></td>\n",
              "      <td></td>\n",
              "      <td></td>\n",
              "    </tr>\n",
              "    <tr>\n",
              "      <th>2011-01-07</th>\n",
              "      <td>5.648</td>\n",
              "      <td>5.600</td>\n",
              "      <td>5.716</td>\n",
              "      <td>5.580</td>\n",
              "      <td>11239500.0</td>\n",
              "      <td>Rishi gives look test for KJo,Tom Hanks to be ...</td>\n",
              "      <td></td>\n",
              "      <td></td>\n",
              "      <td></td>\n",
              "      <td></td>\n",
              "    </tr>\n",
              "  </tbody>\n",
              "</table>\n",
              "</div>"
            ],
            "text/plain": [
              "            Close   Open   High    Low  ...  compound negative neutral positive\n",
              "2011-01-03  5.324  5.368  5.400  5.180  ...                                    \n",
              "2011-01-04  5.334  5.332  5.390  5.204  ...                                    \n",
              "2011-01-05  5.366  5.296  5.380  5.238  ...                                    \n",
              "2011-01-06  5.576  5.366  5.600  5.362  ...                                    \n",
              "2011-01-07  5.648  5.600  5.716  5.580  ...                                    \n",
              "\n",
              "[5 rows x 10 columns]"
            ]
          },
          "metadata": {
            "tags": []
          },
          "execution_count": 16
        }
      ]
    },
    {
      "cell_type": "code",
      "metadata": {
        "colab": {
          "base_uri": "https://localhost:8080/"
        },
        "id": "xLUsMYU43nv7",
        "outputId": "1ad4e023-9aeb-4ac7-ebc7-9c9b16893ec2"
      },
      "source": [
        "#import nltk\n",
        "nltk.download('vader_lexicon')"
      ],
      "execution_count": null,
      "outputs": [
        {
          "output_type": "stream",
          "text": [
            "[nltk_data] Downloading package vader_lexicon to /root/nltk_data...\n"
          ],
          "name": "stdout"
        },
        {
          "output_type": "execute_result",
          "data": {
            "text/plain": [
              "True"
            ]
          },
          "metadata": {
            "tags": []
          },
          "execution_count": 18
        }
      ]
    },
    {
      "cell_type": "code",
      "metadata": {
        "colab": {
          "base_uri": "https://localhost:8080/",
          "height": 204
        },
        "id": "Dfy_Pl0qvHI7",
        "outputId": "034628a5-1e85-4e6c-a745-a5aaff1bf711"
      },
      "source": [
        "#importing required libraries to analyze the sentiments\n",
        "from nltk.sentiment.vader import SentimentIntensityAnalyzer\n",
        "import unicodedata\n",
        "\n",
        "#initializing the Sentimentanalyzer\n",
        "sid = SentimentIntensityAnalyzer()\n",
        "\n",
        "#calculating sentiment scores\n",
        "combined_data['compound'] = combined_data['headline_text'].apply(lambda x: sid.polarity_scores(x)['compound'])\n",
        "combined_data['negative'] = combined_data['headline_text'].apply(lambda x: sid.polarity_scores(x)['neg'])\n",
        "combined_data['neutral'] = combined_data['headline_text'].apply(lambda x: sid.polarity_scores(x)['neu'])\n",
        "combined_data['positive'] = combined_data['headline_text'].apply(lambda x: sid.polarity_scores(x)['pos'])\n",
        "\n",
        "#displaying the data\n",
        "combined_data.head()\n"
      ],
      "execution_count": null,
      "outputs": [
        {
          "output_type": "execute_result",
          "data": {
            "text/html": [
              "<div>\n",
              "<style scoped>\n",
              "    .dataframe tbody tr th:only-of-type {\n",
              "        vertical-align: middle;\n",
              "    }\n",
              "\n",
              "    .dataframe tbody tr th {\n",
              "        vertical-align: top;\n",
              "    }\n",
              "\n",
              "    .dataframe thead th {\n",
              "        text-align: right;\n",
              "    }\n",
              "</style>\n",
              "<table border=\"1\" class=\"dataframe\">\n",
              "  <thead>\n",
              "    <tr style=\"text-align: right;\">\n",
              "      <th></th>\n",
              "      <th>Close</th>\n",
              "      <th>Open</th>\n",
              "      <th>High</th>\n",
              "      <th>Low</th>\n",
              "      <th>Volume</th>\n",
              "      <th>headline_text</th>\n",
              "      <th>compound</th>\n",
              "      <th>negative</th>\n",
              "      <th>neutral</th>\n",
              "      <th>positive</th>\n",
              "    </tr>\n",
              "  </thead>\n",
              "  <tbody>\n",
              "    <tr>\n",
              "      <th>2011-01-03</th>\n",
              "      <td>5.324</td>\n",
              "      <td>5.368</td>\n",
              "      <td>5.400</td>\n",
              "      <td>5.180</td>\n",
              "      <td>6415000.0</td>\n",
              "      <td>Photo Gallery (Ashes 2010),Your guy needs comp...</td>\n",
              "      <td>-0.9995</td>\n",
              "      <td>0.148</td>\n",
              "      <td>0.752</td>\n",
              "      <td>0.100</td>\n",
              "    </tr>\n",
              "    <tr>\n",
              "      <th>2011-01-04</th>\n",
              "      <td>5.334</td>\n",
              "      <td>5.332</td>\n",
              "      <td>5.390</td>\n",
              "      <td>5.204</td>\n",
              "      <td>5937000.0</td>\n",
              "      <td>Deepika Padukone,Deepika Padukone,Imran invite...</td>\n",
              "      <td>-0.9993</td>\n",
              "      <td>0.116</td>\n",
              "      <td>0.800</td>\n",
              "      <td>0.083</td>\n",
              "    </tr>\n",
              "    <tr>\n",
              "      <th>2011-01-05</th>\n",
              "      <td>5.366</td>\n",
              "      <td>5.296</td>\n",
              "      <td>5.380</td>\n",
              "      <td>5.238</td>\n",
              "      <td>7233500.0</td>\n",
              "      <td>Man dies of heart attack after killing lover's...</td>\n",
              "      <td>-0.9998</td>\n",
              "      <td>0.140</td>\n",
              "      <td>0.784</td>\n",
              "      <td>0.076</td>\n",
              "    </tr>\n",
              "    <tr>\n",
              "      <th>2011-01-06</th>\n",
              "      <td>5.576</td>\n",
              "      <td>5.366</td>\n",
              "      <td>5.600</td>\n",
              "      <td>5.362</td>\n",
              "      <td>10306000.0</td>\n",
              "      <td>Photo Gallery (Indian tour of South Africa),Ra...</td>\n",
              "      <td>-0.9997</td>\n",
              "      <td>0.124</td>\n",
              "      <td>0.792</td>\n",
              "      <td>0.083</td>\n",
              "    </tr>\n",
              "    <tr>\n",
              "      <th>2011-01-07</th>\n",
              "      <td>5.648</td>\n",
              "      <td>5.600</td>\n",
              "      <td>5.716</td>\n",
              "      <td>5.580</td>\n",
              "      <td>11239500.0</td>\n",
              "      <td>Rishi gives look test for KJo,Tom Hanks to be ...</td>\n",
              "      <td>-0.9998</td>\n",
              "      <td>0.133</td>\n",
              "      <td>0.796</td>\n",
              "      <td>0.071</td>\n",
              "    </tr>\n",
              "  </tbody>\n",
              "</table>\n",
              "</div>"
            ],
            "text/plain": [
              "            Close   Open   High    Low  ...  compound negative  neutral  positive\n",
              "2011-01-03  5.324  5.368  5.400  5.180  ...   -0.9995    0.148    0.752     0.100\n",
              "2011-01-04  5.334  5.332  5.390  5.204  ...   -0.9993    0.116    0.800     0.083\n",
              "2011-01-05  5.366  5.296  5.380  5.238  ...   -0.9998    0.140    0.784     0.076\n",
              "2011-01-06  5.576  5.366  5.600  5.362  ...   -0.9997    0.124    0.792     0.083\n",
              "2011-01-07  5.648  5.600  5.716  5.580  ...   -0.9998    0.133    0.796     0.071\n",
              "\n",
              "[5 rows x 10 columns]"
            ]
          },
          "metadata": {
            "tags": []
          },
          "execution_count": 19
        }
      ]
    },
    {
      "cell_type": "code",
      "metadata": {
        "colab": {
          "base_uri": "https://localhost:8080/",
          "height": 204
        },
        "id": "JHrACJ0SACRr",
        "outputId": "bd211eff-17d2-4274-a3bf-cf2b94af856a"
      },
      "source": [
        "##finalising dataset and writing to disk\n",
        "\n",
        "#dropping the headline text which is unwanted now\n",
        "combined_data.drop(['headline_text'], inplace=True, axis=1)\n",
        "\n",
        "#rearrange the columns\n",
        "combined_data = combined_data[['Close', 'compound', 'negative', 'neutral', 'positive', 'Open', 'High', 'Low', 'Volume']]\n",
        "\n",
        "#displaying\n",
        "combined_data.head()"
      ],
      "execution_count": null,
      "outputs": [
        {
          "output_type": "execute_result",
          "data": {
            "text/html": [
              "<div>\n",
              "<style scoped>\n",
              "    .dataframe tbody tr th:only-of-type {\n",
              "        vertical-align: middle;\n",
              "    }\n",
              "\n",
              "    .dataframe tbody tr th {\n",
              "        vertical-align: top;\n",
              "    }\n",
              "\n",
              "    .dataframe thead th {\n",
              "        text-align: right;\n",
              "    }\n",
              "</style>\n",
              "<table border=\"1\" class=\"dataframe\">\n",
              "  <thead>\n",
              "    <tr style=\"text-align: right;\">\n",
              "      <th></th>\n",
              "      <th>Close</th>\n",
              "      <th>compound</th>\n",
              "      <th>negative</th>\n",
              "      <th>neutral</th>\n",
              "      <th>positive</th>\n",
              "      <th>Open</th>\n",
              "      <th>High</th>\n",
              "      <th>Low</th>\n",
              "      <th>Volume</th>\n",
              "    </tr>\n",
              "  </thead>\n",
              "  <tbody>\n",
              "    <tr>\n",
              "      <th>2011-01-03</th>\n",
              "      <td>5.324</td>\n",
              "      <td>-0.9995</td>\n",
              "      <td>0.148</td>\n",
              "      <td>0.752</td>\n",
              "      <td>0.100</td>\n",
              "      <td>5.368</td>\n",
              "      <td>5.400</td>\n",
              "      <td>5.180</td>\n",
              "      <td>6415000.0</td>\n",
              "    </tr>\n",
              "    <tr>\n",
              "      <th>2011-01-04</th>\n",
              "      <td>5.334</td>\n",
              "      <td>-0.9993</td>\n",
              "      <td>0.116</td>\n",
              "      <td>0.800</td>\n",
              "      <td>0.083</td>\n",
              "      <td>5.332</td>\n",
              "      <td>5.390</td>\n",
              "      <td>5.204</td>\n",
              "      <td>5937000.0</td>\n",
              "    </tr>\n",
              "    <tr>\n",
              "      <th>2011-01-05</th>\n",
              "      <td>5.366</td>\n",
              "      <td>-0.9998</td>\n",
              "      <td>0.140</td>\n",
              "      <td>0.784</td>\n",
              "      <td>0.076</td>\n",
              "      <td>5.296</td>\n",
              "      <td>5.380</td>\n",
              "      <td>5.238</td>\n",
              "      <td>7233500.0</td>\n",
              "    </tr>\n",
              "    <tr>\n",
              "      <th>2011-01-06</th>\n",
              "      <td>5.576</td>\n",
              "      <td>-0.9997</td>\n",
              "      <td>0.124</td>\n",
              "      <td>0.792</td>\n",
              "      <td>0.083</td>\n",
              "      <td>5.366</td>\n",
              "      <td>5.600</td>\n",
              "      <td>5.362</td>\n",
              "      <td>10306000.0</td>\n",
              "    </tr>\n",
              "    <tr>\n",
              "      <th>2011-01-07</th>\n",
              "      <td>5.648</td>\n",
              "      <td>-0.9998</td>\n",
              "      <td>0.133</td>\n",
              "      <td>0.796</td>\n",
              "      <td>0.071</td>\n",
              "      <td>5.600</td>\n",
              "      <td>5.716</td>\n",
              "      <td>5.580</td>\n",
              "      <td>11239500.0</td>\n",
              "    </tr>\n",
              "  </tbody>\n",
              "</table>\n",
              "</div>"
            ],
            "text/plain": [
              "            Close  compound  negative  neutral  ...   Open   High    Low      Volume\n",
              "2011-01-03  5.324   -0.9995     0.148    0.752  ...  5.368  5.400  5.180   6415000.0\n",
              "2011-01-04  5.334   -0.9993     0.116    0.800  ...  5.332  5.390  5.204   5937000.0\n",
              "2011-01-05  5.366   -0.9998     0.140    0.784  ...  5.296  5.380  5.238   7233500.0\n",
              "2011-01-06  5.576   -0.9997     0.124    0.792  ...  5.366  5.600  5.362  10306000.0\n",
              "2011-01-07  5.648   -0.9998     0.133    0.796  ...  5.600  5.716  5.580  11239500.0\n",
              "\n",
              "[5 rows x 9 columns]"
            ]
          },
          "metadata": {
            "tags": []
          },
          "execution_count": 20
        }
      ]
    },
    {
      "cell_type": "code",
      "metadata": {
        "id": "7iFrEMWMBDPv"
      },
      "source": [
        "#saving dataset for further use\n",
        "combined_data.to_csv('combined_data.csv')"
      ],
      "execution_count": null,
      "outputs": []
    },
    {
      "cell_type": "code",
      "metadata": {
        "colab": {
          "base_uri": "https://localhost:8080/"
        },
        "id": "RuqTim_4BSBU",
        "outputId": "da85d539-cb30-4ad9-fd52-0dc04280bbc2"
      },
      "source": [
        "##Feature engineering of the combined data\n",
        "combined_data.shape"
      ],
      "execution_count": null,
      "outputs": [
        {
          "output_type": "execute_result",
          "data": {
            "text/plain": [
              "(2517, 9)"
            ]
          },
          "metadata": {
            "tags": []
          },
          "execution_count": 22
        }
      ]
    },
    {
      "cell_type": "code",
      "metadata": {
        "colab": {
          "base_uri": "https://localhost:8080/"
        },
        "id": "pOvcse4JB4y1",
        "outputId": "c0e28966-78fb-48ea-8ef3-f898f1acc3bd"
      },
      "source": [
        "#checking null values\n",
        "combined_data.isna().any()"
      ],
      "execution_count": null,
      "outputs": [
        {
          "output_type": "execute_result",
          "data": {
            "text/plain": [
              "Close       False\n",
              "compound    False\n",
              "negative    False\n",
              "neutral     False\n",
              "positive    False\n",
              "Open        False\n",
              "High        False\n",
              "Low         False\n",
              "Volume      False\n",
              "dtype: bool"
            ]
          },
          "metadata": {
            "tags": []
          },
          "execution_count": 23
        }
      ]
    },
    {
      "cell_type": "code",
      "metadata": {
        "colab": {
          "base_uri": "https://localhost:8080/"
        },
        "id": "7qD1JqoICCPB",
        "outputId": "6731e120-b5d3-493a-f3b0-3a132da6146a"
      },
      "source": [
        "combined_data.info()"
      ],
      "execution_count": null,
      "outputs": [
        {
          "output_type": "stream",
          "text": [
            "<class 'pandas.core.frame.DataFrame'>\n",
            "DatetimeIndex: 2517 entries, 2011-01-03 to 2020-12-31\n",
            "Data columns (total 9 columns):\n",
            " #   Column    Non-Null Count  Dtype  \n",
            "---  ------    --------------  -----  \n",
            " 0   Close     2517 non-null   float64\n",
            " 1   compound  2517 non-null   float64\n",
            " 2   negative  2517 non-null   float64\n",
            " 3   neutral   2517 non-null   float64\n",
            " 4   positive  2517 non-null   float64\n",
            " 5   Open      2517 non-null   float64\n",
            " 6   High      2517 non-null   float64\n",
            " 7   Low       2517 non-null   float64\n",
            " 8   Volume    2517 non-null   float64\n",
            "dtypes: float64(9)\n",
            "memory usage: 196.6 KB\n"
          ],
          "name": "stdout"
        }
      ]
    },
    {
      "cell_type": "code",
      "metadata": {
        "colab": {
          "base_uri": "https://localhost:8080/",
          "height": 596
        },
        "id": "0_PQtE9KCCNE",
        "outputId": "7ecd9cd4-3156-4fda-b6f5-6e61573dda27"
      },
      "source": [
        "##EDA of the data\n",
        "\n",
        "plt.figure(figsize=(16,10))\n",
        "\n",
        "#plotting close price\n",
        "combined_data['Close'].plot()\n",
        "\n",
        "#setting pplot title,, x and y label\n",
        "plt.title(\"Close Price\")\n",
        "plt.xlabel('Date')\n",
        "plt.ylabel('Çlose price $')"
      ],
      "execution_count": null,
      "outputs": [
        {
          "output_type": "execute_result",
          "data": {
            "text/plain": [
              "Text(0, 0.5, 'Çlose price $')"
            ]
          },
          "metadata": {
            "tags": []
          },
          "execution_count": 25
        },
        {
          "output_type": "display_data",
          "data": {
            "image/png": "[encoded data removed]",
            "text/plain": [
              "<Figure size 1152x720 with 1 Axes>"
            ]
          },
          "metadata": {
            "tags": [],
            "needs_background": "light"
          }
        }
      ]
    },
    {
      "cell_type": "code",
      "metadata": {
        "colab": {
          "base_uri": "https://localhost:8080/",
          "height": 669
        },
        "id": "ptOxdZyfDpfp",
        "outputId": "306b8a74-8f2c-4fd9-e132-83e86001abfd"
      },
      "source": [
        "#calculating 7 day rolling mean\n",
        "combined_data.rolling(7).mean().head(20)"
      ],
      "execution_count": null,
      "outputs": [
        {
          "output_type": "execute_result",
          "data": {
            "text/html": [
              "<div>\n",
              "<style scoped>\n",
              "    .dataframe tbody tr th:only-of-type {\n",
              "        vertical-align: middle;\n",
              "    }\n",
              "\n",
              "    .dataframe tbody tr th {\n",
              "        vertical-align: top;\n",
              "    }\n",
              "\n",
              "    .dataframe thead th {\n",
              "        text-align: right;\n",
              "    }\n",
              "</style>\n",
              "<table border=\"1\" class=\"dataframe\">\n",
              "  <thead>\n",
              "    <tr style=\"text-align: right;\">\n",
              "      <th></th>\n",
              "      <th>Close</th>\n",
              "      <th>compound</th>\n",
              "      <th>negative</th>\n",
              "      <th>neutral</th>\n",
              "      <th>positive</th>\n",
              "      <th>Open</th>\n",
              "      <th>High</th>\n",
              "      <th>Low</th>\n",
              "      <th>Volume</th>\n",
              "    </tr>\n",
              "  </thead>\n",
              "  <tbody>\n",
              "    <tr>\n",
              "      <th>2011-01-03</th>\n",
              "      <td>NaN</td>\n",
              "      <td>NaN</td>\n",
              "      <td>NaN</td>\n",
              "      <td>NaN</td>\n",
              "      <td>NaN</td>\n",
              "      <td>NaN</td>\n",
              "      <td>NaN</td>\n",
              "      <td>NaN</td>\n",
              "      <td>NaN</td>\n",
              "    </tr>\n",
              "    <tr>\n",
              "      <th>2011-01-04</th>\n",
              "      <td>NaN</td>\n",
              "      <td>NaN</td>\n",
              "      <td>NaN</td>\n",
              "      <td>NaN</td>\n",
              "      <td>NaN</td>\n",
              "      <td>NaN</td>\n",
              "      <td>NaN</td>\n",
              "      <td>NaN</td>\n",
              "      <td>NaN</td>\n",
              "    </tr>\n",
              "    <tr>\n",
              "      <th>2011-01-05</th>\n",
              "      <td>NaN</td>\n",
              "      <td>NaN</td>\n",
              "      <td>NaN</td>\n",
              "      <td>NaN</td>\n",
              "      <td>NaN</td>\n",
              "      <td>NaN</td>\n",
              "      <td>NaN</td>\n",
              "      <td>NaN</td>\n",
              "      <td>NaN</td>\n",
              "    </tr>\n",
              "    <tr>\n",
              "      <th>2011-01-06</th>\n",
              "      <td>NaN</td>\n",
              "      <td>NaN</td>\n",
              "      <td>NaN</td>\n",
              "      <td>NaN</td>\n",
              "      <td>NaN</td>\n",
              "      <td>NaN</td>\n",
              "      <td>NaN</td>\n",
              "      <td>NaN</td>\n",
              "      <td>NaN</td>\n",
              "    </tr>\n",
              "    <tr>\n",
              "      <th>2011-01-07</th>\n",
              "      <td>NaN</td>\n",
              "      <td>NaN</td>\n",
              "      <td>NaN</td>\n",
              "      <td>NaN</td>\n",
              "      <td>NaN</td>\n",
              "      <td>NaN</td>\n",
              "      <td>NaN</td>\n",
              "      <td>NaN</td>\n",
              "      <td>NaN</td>\n",
              "    </tr>\n",
              "    <tr>\n",
              "      <th>2011-01-10</th>\n",
              "      <td>NaN</td>\n",
              "      <td>NaN</td>\n",
              "      <td>NaN</td>\n",
              "      <td>NaN</td>\n",
              "      <td>NaN</td>\n",
              "      <td>NaN</td>\n",
              "      <td>NaN</td>\n",
              "      <td>NaN</td>\n",
              "      <td>NaN</td>\n",
              "    </tr>\n",
              "    <tr>\n",
              "      <th>2011-01-11</th>\n",
              "      <td>5.475714</td>\n",
              "      <td>-0.999571</td>\n",
              "      <td>0.129143</td>\n",
              "      <td>0.786000</td>\n",
              "      <td>0.084571</td>\n",
              "      <td>5.473429</td>\n",
              "      <td>5.566286</td>\n",
              "      <td>5.365429</td>\n",
              "      <td>8.056500e+06</td>\n",
              "    </tr>\n",
              "    <tr>\n",
              "      <th>2011-01-12</th>\n",
              "      <td>5.485429</td>\n",
              "      <td>-0.999600</td>\n",
              "      <td>0.127000</td>\n",
              "      <td>0.789857</td>\n",
              "      <td>0.082857</td>\n",
              "      <td>5.478286</td>\n",
              "      <td>5.577714</td>\n",
              "      <td>5.383143</td>\n",
              "      <td>7.828929e+06</td>\n",
              "    </tr>\n",
              "    <tr>\n",
              "      <th>2011-01-13</th>\n",
              "      <td>5.472571</td>\n",
              "      <td>-0.999643</td>\n",
              "      <td>0.129286</td>\n",
              "      <td>0.785143</td>\n",
              "      <td>0.085429</td>\n",
              "      <td>5.486857</td>\n",
              "      <td>5.578286</td>\n",
              "      <td>5.387143</td>\n",
              "      <td>7.497643e+06</td>\n",
              "    </tr>\n",
              "    <tr>\n",
              "      <th>2011-01-14</th>\n",
              "      <td>5.441714</td>\n",
              "      <td>-0.999614</td>\n",
              "      <td>0.126286</td>\n",
              "      <td>0.787286</td>\n",
              "      <td>0.086286</td>\n",
              "      <td>5.477429</td>\n",
              "      <td>5.569143</td>\n",
              "      <td>5.370571</td>\n",
              "      <td>7.315714e+06</td>\n",
              "    </tr>\n",
              "    <tr>\n",
              "      <th>2011-01-18</th>\n",
              "      <td>5.377714</td>\n",
              "      <td>-0.999629</td>\n",
              "      <td>0.126429</td>\n",
              "      <td>0.789143</td>\n",
              "      <td>0.084429</td>\n",
              "      <td>5.438857</td>\n",
              "      <td>5.501714</td>\n",
              "      <td>5.311714</td>\n",
              "      <td>7.001786e+06</td>\n",
              "    </tr>\n",
              "    <tr>\n",
              "      <th>2011-01-19</th>\n",
              "      <td>5.257429</td>\n",
              "      <td>-0.999600</td>\n",
              "      <td>0.124286</td>\n",
              "      <td>0.790429</td>\n",
              "      <td>0.085429</td>\n",
              "      <td>5.360857</td>\n",
              "      <td>5.412857</td>\n",
              "      <td>5.193143</td>\n",
              "      <td>7.090071e+06</td>\n",
              "    </tr>\n",
              "    <tr>\n",
              "      <th>2011-01-20</th>\n",
              "      <td>5.090857</td>\n",
              "      <td>-0.999657</td>\n",
              "      <td>0.127857</td>\n",
              "      <td>0.786857</td>\n",
              "      <td>0.085571</td>\n",
              "      <td>5.242571</td>\n",
              "      <td>5.292000</td>\n",
              "      <td>5.030857</td>\n",
              "      <td>7.759500e+06</td>\n",
              "    </tr>\n",
              "    <tr>\n",
              "      <th>2011-01-21</th>\n",
              "      <td>4.978857</td>\n",
              "      <td>-0.999700</td>\n",
              "      <td>0.128857</td>\n",
              "      <td>0.788714</td>\n",
              "      <td>0.082714</td>\n",
              "      <td>5.086286</td>\n",
              "      <td>5.145714</td>\n",
              "      <td>4.910571</td>\n",
              "      <td>7.407214e+06</td>\n",
              "    </tr>\n",
              "    <tr>\n",
              "      <th>2011-01-24</th>\n",
              "      <td>4.908286</td>\n",
              "      <td>-0.999614</td>\n",
              "      <td>0.125429</td>\n",
              "      <td>0.793571</td>\n",
              "      <td>0.081286</td>\n",
              "      <td>4.986857</td>\n",
              "      <td>5.071714</td>\n",
              "      <td>4.816571</td>\n",
              "      <td>7.893429e+06</td>\n",
              "    </tr>\n",
              "    <tr>\n",
              "      <th>2011-01-25</th>\n",
              "      <td>4.864286</td>\n",
              "      <td>-0.999629</td>\n",
              "      <td>0.126714</td>\n",
              "      <td>0.793571</td>\n",
              "      <td>0.080000</td>\n",
              "      <td>4.920857</td>\n",
              "      <td>5.012286</td>\n",
              "      <td>4.755429</td>\n",
              "      <td>8.284786e+06</td>\n",
              "    </tr>\n",
              "    <tr>\n",
              "      <th>2011-01-26</th>\n",
              "      <td>4.835714</td>\n",
              "      <td>-0.999314</td>\n",
              "      <td>0.122143</td>\n",
              "      <td>0.800429</td>\n",
              "      <td>0.077714</td>\n",
              "      <td>4.879714</td>\n",
              "      <td>4.963714</td>\n",
              "      <td>4.712286</td>\n",
              "      <td>8.204714e+06</td>\n",
              "    </tr>\n",
              "    <tr>\n",
              "      <th>2011-01-27</th>\n",
              "      <td>4.815143</td>\n",
              "      <td>-0.997429</td>\n",
              "      <td>0.119857</td>\n",
              "      <td>0.797857</td>\n",
              "      <td>0.082571</td>\n",
              "      <td>4.858571</td>\n",
              "      <td>4.947714</td>\n",
              "      <td>4.706000</td>\n",
              "      <td>7.686143e+06</td>\n",
              "    </tr>\n",
              "    <tr>\n",
              "      <th>2011-01-28</th>\n",
              "      <td>4.814571</td>\n",
              "      <td>-0.997471</td>\n",
              "      <td>0.126714</td>\n",
              "      <td>0.787286</td>\n",
              "      <td>0.086143</td>\n",
              "      <td>4.847429</td>\n",
              "      <td>4.930857</td>\n",
              "      <td>4.706000</td>\n",
              "      <td>6.741071e+06</td>\n",
              "    </tr>\n",
              "    <tr>\n",
              "      <th>2011-01-31</th>\n",
              "      <td>4.856857</td>\n",
              "      <td>-0.997457</td>\n",
              "      <td>0.128714</td>\n",
              "      <td>0.783143</td>\n",
              "      <td>0.088286</td>\n",
              "      <td>4.848000</td>\n",
              "      <td>4.921429</td>\n",
              "      <td>4.738286</td>\n",
              "      <td>5.705643e+06</td>\n",
              "    </tr>\n",
              "  </tbody>\n",
              "</table>\n",
              "</div>"
            ],
            "text/plain": [
              "               Close  compound  negative  ...      High       Low        Volume\n",
              "2011-01-03       NaN       NaN       NaN  ...       NaN       NaN           NaN\n",
              "2011-01-04       NaN       NaN       NaN  ...       NaN       NaN           NaN\n",
              "2011-01-05       NaN       NaN       NaN  ...       NaN       NaN           NaN\n",
              "2011-01-06       NaN       NaN       NaN  ...       NaN       NaN           NaN\n",
              "2011-01-07       NaN       NaN       NaN  ...       NaN       NaN           NaN\n",
              "2011-01-10       NaN       NaN       NaN  ...       NaN       NaN           NaN\n",
              "2011-01-11  5.475714 -0.999571  0.129143  ...  5.566286  5.365429  8.056500e+06\n",
              "2011-01-12  5.485429 -0.999600  0.127000  ...  5.577714  5.383143  7.828929e+06\n",
              "2011-01-13  5.472571 -0.999643  0.129286  ...  5.578286  5.387143  7.497643e+06\n",
              "2011-01-14  5.441714 -0.999614  0.126286  ...  5.569143  5.370571  7.315714e+06\n",
              "2011-01-18  5.377714 -0.999629  0.126429  ...  5.501714  5.311714  7.001786e+06\n",
              "2011-01-19  5.257429 -0.999600  0.124286  ...  5.412857  5.193143  7.090071e+06\n",
              "2011-01-20  5.090857 -0.999657  0.127857  ...  5.292000  5.030857  7.759500e+06\n",
              "2011-01-21  4.978857 -0.999700  0.128857  ...  5.145714  4.910571  7.407214e+06\n",
              "2011-01-24  4.908286 -0.999614  0.125429  ...  5.071714  4.816571  7.893429e+06\n",
              "2011-01-25  4.864286 -0.999629  0.126714  ...  5.012286  4.755429  8.284786e+06\n",
              "2011-01-26  4.835714 -0.999314  0.122143  ...  4.963714  4.712286  8.204714e+06\n",
              "2011-01-27  4.815143 -0.997429  0.119857  ...  4.947714  4.706000  7.686143e+06\n",
              "2011-01-28  4.814571 -0.997471  0.126714  ...  4.930857  4.706000  6.741071e+06\n",
              "2011-01-31  4.856857 -0.997457  0.128714  ...  4.921429  4.738286  5.705643e+06\n",
              "\n",
              "[20 rows x 9 columns]"
            ]
          },
          "metadata": {
            "tags": []
          },
          "execution_count": 26
        }
      ]
    },
    {
      "cell_type": "code",
      "metadata": {
        "colab": {
          "base_uri": "https://localhost:8080/",
          "height": 566
        },
        "id": "j2WrGsdYDpcp",
        "outputId": "e0a9c817-a7d6-48c4-ceb3-3df33d240b07"
      },
      "source": [
        "plt.figure(figsize=(16,10))\n",
        "\n",
        "combined_data['Close'].plot()\n",
        "combined_data.rolling(window=30).mean()['Close'].plot()"
      ],
      "execution_count": null,
      "outputs": [
        {
          "output_type": "execute_result",
          "data": {
            "text/plain": [
              "<matplotlib.axes._subplots.AxesSubplot at 0x7fc5fb3a78d0>"
            ]
          },
          "metadata": {
            "tags": []
          },
          "execution_count": 27
        },
        {
          "output_type": "display_data",
          "data": {
            "image/png": "[encoded data removed]",
            "text/plain": [
              "<Figure size 1152x720 with 1 Axes>"
            ]
          },
          "metadata": {
            "tags": [],
            "needs_background": "light"
          }
        }
      ]
    },
    {
      "cell_type": "code",
      "metadata": {
        "colab": {
          "base_uri": "https://localhost:8080/"
        },
        "id": "iDeOAlhhDpYd",
        "outputId": "8e1e9cf1-2e62-4aa8-d371-c4a56831ee08"
      },
      "source": [
        "##Data preparation for modeling\n",
        "percentage_of_data = 1.0\n",
        "data_to_use = int(percentage_of_data*(len(combined_data)-1))\n",
        "\n",
        "#using 80% of data for trainng\n",
        "train_data = int(data_to_use*0.8)\n",
        "total_data = len(combined_data)\n",
        "start = total_data - data_to_use\n",
        "\n",
        "#printing number of records in train and test datasets\n",
        "print(\"Number of records in Training Data:\", train_data)\n",
        "print(\"Number of records in Test Data:\", total_data-train_data)"
      ],
      "execution_count": null,
      "outputs": [
        {
          "output_type": "stream",
          "text": [
            "Number of records in Training Data: 2012\n",
            "Number of records in Test Data: 505\n"
          ],
          "name": "stdout"
        }
      ]
    },
    {
      "cell_type": "code",
      "metadata": {
        "colab": {
          "base_uri": "https://localhost:8080/"
        },
        "id": "1Nt4hdJKDpVB",
        "outputId": "4b1693a5-26e0-48ff-d96c-39da7006420b"
      },
      "source": [
        "close_price = combined_data.iloc[start:total_data,0]#close\n",
        "compound = combined_data.iloc[start:total_data,1]\n",
        "negative = combined_data.iloc[start:total_data,2]\n",
        "neutral = combined_data.iloc[start:total_data,3]\n",
        "positive = combined_data.iloc[start:total_data,4]\n",
        "open_price = combined_data.iloc[start:total_data,5]\n",
        "high = combined_data.iloc[start:total_data,6]\n",
        "low = combined_data.iloc[start:total_data,7]\n",
        "volume = combined_data.iloc[start:total_data,8]\n",
        "\n",
        "#printing Close price\n",
        "print('Close price')\n",
        "close_price"
      ],
      "execution_count": null,
      "outputs": [
        {
          "output_type": "stream",
          "text": [
            "Close price\n"
          ],
          "name": "stdout"
        },
        {
          "output_type": "execute_result",
          "data": {
            "text/plain": [
              "2011-01-04      5.334000\n",
              "2011-01-05      5.366000\n",
              "2011-01-06      5.576000\n",
              "2011-01-07      5.648000\n",
              "2011-01-10      5.690000\n",
              "                 ...    \n",
              "2020-12-24    661.770020\n",
              "2020-12-28    663.690002\n",
              "2020-12-29    665.989990\n",
              "2020-12-30    694.780029\n",
              "2020-12-31    705.669983\n",
              "Name: Close, Length: 2516, dtype: float64"
            ]
          },
          "metadata": {
            "tags": []
          },
          "execution_count": 29
        }
      ]
    },
    {
      "cell_type": "code",
      "metadata": {
        "colab": {
          "base_uri": "https://localhost:8080/",
          "height": 669
        },
        "id": "9penjHgRDpLa",
        "outputId": "3d85efa8-e3d2-49d9-c334-f9b3b529d6be"
      },
      "source": [
        "#shifted next day close\n",
        "close_price_shifted = close_price.shift(-1)\n",
        "\n",
        "#shifting next day compound\n",
        "compound_shifted = compound.shift(-1)\n",
        "\n",
        "data = pd.concat([close_price, close_price_shifted, compound, compound_shifted, volume, open_price, high, low], axis=1)\n",
        "\n",
        "#setting column names\n",
        "data.columns = ['close_price', 'close_price_shifted', 'compound', 'compound_shifted', 'volume','open_price','high','low']\n",
        "\n",
        "#dropping nulls\n",
        "data = data.dropna()\n",
        "data.head(20)"
      ],
      "execution_count": null,
      "outputs": [
        {
          "output_type": "execute_result",
          "data": {
            "text/html": [
              "<div>\n",
              "<style scoped>\n",
              "    .dataframe tbody tr th:only-of-type {\n",
              "        vertical-align: middle;\n",
              "    }\n",
              "\n",
              "    .dataframe tbody tr th {\n",
              "        vertical-align: top;\n",
              "    }\n",
              "\n",
              "    .dataframe thead th {\n",
              "        text-align: right;\n",
              "    }\n",
              "</style>\n",
              "<table border=\"1\" class=\"dataframe\">\n",
              "  <thead>\n",
              "    <tr style=\"text-align: right;\">\n",
              "      <th></th>\n",
              "      <th>close_price</th>\n",
              "      <th>close_price_shifted</th>\n",
              "      <th>compound</th>\n",
              "      <th>compound_shifted</th>\n",
              "      <th>volume</th>\n",
              "      <th>open_price</th>\n",
              "      <th>high</th>\n",
              "      <th>low</th>\n",
              "    </tr>\n",
              "  </thead>\n",
              "  <tbody>\n",
              "    <tr>\n",
              "      <th>2011-01-04</th>\n",
              "      <td>5.334</td>\n",
              "      <td>5.366</td>\n",
              "      <td>-0.9993</td>\n",
              "      <td>-0.9998</td>\n",
              "      <td>5937000.0</td>\n",
              "      <td>5.332</td>\n",
              "      <td>5.390</td>\n",
              "      <td>5.204</td>\n",
              "    </tr>\n",
              "    <tr>\n",
              "      <th>2011-01-05</th>\n",
              "      <td>5.366</td>\n",
              "      <td>5.576</td>\n",
              "      <td>-0.9998</td>\n",
              "      <td>-0.9997</td>\n",
              "      <td>7233500.0</td>\n",
              "      <td>5.296</td>\n",
              "      <td>5.380</td>\n",
              "      <td>5.238</td>\n",
              "    </tr>\n",
              "    <tr>\n",
              "      <th>2011-01-06</th>\n",
              "      <td>5.576</td>\n",
              "      <td>5.648</td>\n",
              "      <td>-0.9997</td>\n",
              "      <td>-0.9998</td>\n",
              "      <td>10306000.0</td>\n",
              "      <td>5.366</td>\n",
              "      <td>5.600</td>\n",
              "      <td>5.362</td>\n",
              "    </tr>\n",
              "    <tr>\n",
              "      <th>2011-01-07</th>\n",
              "      <td>5.648</td>\n",
              "      <td>5.690</td>\n",
              "      <td>-0.9998</td>\n",
              "      <td>-0.9994</td>\n",
              "      <td>11239500.0</td>\n",
              "      <td>5.600</td>\n",
              "      <td>5.716</td>\n",
              "      <td>5.580</td>\n",
              "    </tr>\n",
              "    <tr>\n",
              "      <th>2011-01-10</th>\n",
              "      <td>5.690</td>\n",
              "      <td>5.392</td>\n",
              "      <td>-0.9994</td>\n",
              "      <td>-0.9995</td>\n",
              "      <td>6713500.0</td>\n",
              "      <td>5.634</td>\n",
              "      <td>5.736</td>\n",
              "      <td>5.610</td>\n",
              "    </tr>\n",
              "    <tr>\n",
              "      <th>2011-01-11</th>\n",
              "      <td>5.392</td>\n",
              "      <td>5.392</td>\n",
              "      <td>-0.9995</td>\n",
              "      <td>-0.9997</td>\n",
              "      <td>8551000.0</td>\n",
              "      <td>5.718</td>\n",
              "      <td>5.742</td>\n",
              "      <td>5.384</td>\n",
              "    </tr>\n",
              "    <tr>\n",
              "      <th>2011-01-12</th>\n",
              "      <td>5.392</td>\n",
              "      <td>5.244</td>\n",
              "      <td>-0.9997</td>\n",
              "      <td>-0.9996</td>\n",
              "      <td>4822000.0</td>\n",
              "      <td>5.402</td>\n",
              "      <td>5.480</td>\n",
              "      <td>5.304</td>\n",
              "    </tr>\n",
              "    <tr>\n",
              "      <th>2011-01-13</th>\n",
              "      <td>5.244</td>\n",
              "      <td>5.150</td>\n",
              "      <td>-0.9996</td>\n",
              "      <td>-0.9996</td>\n",
              "      <td>3618000.0</td>\n",
              "      <td>5.392</td>\n",
              "      <td>5.394</td>\n",
              "      <td>5.232</td>\n",
              "    </tr>\n",
              "    <tr>\n",
              "      <th>2011-01-14</th>\n",
              "      <td>5.150</td>\n",
              "      <td>5.128</td>\n",
              "      <td>-0.9996</td>\n",
              "      <td>-0.9998</td>\n",
              "      <td>5960000.0</td>\n",
              "      <td>5.230</td>\n",
              "      <td>5.316</td>\n",
              "      <td>5.122</td>\n",
              "    </tr>\n",
              "    <tr>\n",
              "      <th>2011-01-18</th>\n",
              "      <td>5.128</td>\n",
              "      <td>4.806</td>\n",
              "      <td>-0.9998</td>\n",
              "      <td>-0.9996</td>\n",
              "      <td>8108500.0</td>\n",
              "      <td>5.096</td>\n",
              "      <td>5.128</td>\n",
              "      <td>4.950</td>\n",
              "    </tr>\n",
              "    <tr>\n",
              "      <th>2011-01-19</th>\n",
              "      <td>4.806</td>\n",
              "      <td>4.524</td>\n",
              "      <td>-0.9996</td>\n",
              "      <td>-0.9998</td>\n",
              "      <td>11857500.0</td>\n",
              "      <td>5.054</td>\n",
              "      <td>5.094</td>\n",
              "      <td>4.750</td>\n",
              "    </tr>\n",
              "    <tr>\n",
              "      <th>2011-01-20</th>\n",
              "      <td>4.524</td>\n",
              "      <td>4.608</td>\n",
              "      <td>-0.9998</td>\n",
              "      <td>-0.9998</td>\n",
              "      <td>11399500.0</td>\n",
              "      <td>4.806</td>\n",
              "      <td>4.890</td>\n",
              "      <td>4.474</td>\n",
              "    </tr>\n",
              "    <tr>\n",
              "      <th>2011-01-21</th>\n",
              "      <td>4.608</td>\n",
              "      <td>4.898</td>\n",
              "      <td>-0.9998</td>\n",
              "      <td>-0.9991</td>\n",
              "      <td>6085000.0</td>\n",
              "      <td>4.624</td>\n",
              "      <td>4.718</td>\n",
              "      <td>4.542</td>\n",
              "    </tr>\n",
              "    <tr>\n",
              "      <th>2011-01-24</th>\n",
              "      <td>4.898</td>\n",
              "      <td>4.936</td>\n",
              "      <td>-0.9991</td>\n",
              "      <td>-0.9997</td>\n",
              "      <td>8225500.0</td>\n",
              "      <td>4.706</td>\n",
              "      <td>4.962</td>\n",
              "      <td>4.646</td>\n",
              "    </tr>\n",
              "    <tr>\n",
              "      <th>2011-01-25</th>\n",
              "      <td>4.936</td>\n",
              "      <td>4.950</td>\n",
              "      <td>-0.9997</td>\n",
              "      <td>-0.9974</td>\n",
              "      <td>6357500.0</td>\n",
              "      <td>4.930</td>\n",
              "      <td>4.978</td>\n",
              "      <td>4.804</td>\n",
              "    </tr>\n",
              "    <tr>\n",
              "      <th>2011-01-26</th>\n",
              "      <td>4.950</td>\n",
              "      <td>4.984</td>\n",
              "      <td>-0.9974</td>\n",
              "      <td>-0.9866</td>\n",
              "      <td>5399500.0</td>\n",
              "      <td>4.942</td>\n",
              "      <td>4.976</td>\n",
              "      <td>4.820</td>\n",
              "    </tr>\n",
              "    <tr>\n",
              "      <th>2011-01-27</th>\n",
              "      <td>4.984</td>\n",
              "      <td>4.802</td>\n",
              "      <td>-0.9866</td>\n",
              "      <td>-0.9999</td>\n",
              "      <td>4478500.0</td>\n",
              "      <td>4.948</td>\n",
              "      <td>5.016</td>\n",
              "      <td>4.906</td>\n",
              "    </tr>\n",
              "    <tr>\n",
              "      <th>2011-01-28</th>\n",
              "      <td>4.802</td>\n",
              "      <td>4.820</td>\n",
              "      <td>-0.9999</td>\n",
              "      <td>-0.9997</td>\n",
              "      <td>5242000.0</td>\n",
              "      <td>4.976</td>\n",
              "      <td>4.976</td>\n",
              "      <td>4.750</td>\n",
              "    </tr>\n",
              "    <tr>\n",
              "      <th>2011-01-31</th>\n",
              "      <td>4.820</td>\n",
              "      <td>4.782</td>\n",
              "      <td>-0.9997</td>\n",
              "      <td>-0.9831</td>\n",
              "      <td>4151500.0</td>\n",
              "      <td>4.810</td>\n",
              "      <td>4.824</td>\n",
              "      <td>4.700</td>\n",
              "    </tr>\n",
              "    <tr>\n",
              "      <th>2011-02-01</th>\n",
              "      <td>4.782</td>\n",
              "      <td>4.788</td>\n",
              "      <td>-0.9831</td>\n",
              "      <td>-0.9998</td>\n",
              "      <td>3539000.0</td>\n",
              "      <td>4.862</td>\n",
              "      <td>4.946</td>\n",
              "      <td>4.708</td>\n",
              "    </tr>\n",
              "  </tbody>\n",
              "</table>\n",
              "</div>"
            ],
            "text/plain": [
              "            close_price  close_price_shifted  ...   high    low\n",
              "2011-01-04        5.334                5.366  ...  5.390  5.204\n",
              "2011-01-05        5.366                5.576  ...  5.380  5.238\n",
              "2011-01-06        5.576                5.648  ...  5.600  5.362\n",
              "2011-01-07        5.648                5.690  ...  5.716  5.580\n",
              "2011-01-10        5.690                5.392  ...  5.736  5.610\n",
              "2011-01-11        5.392                5.392  ...  5.742  5.384\n",
              "2011-01-12        5.392                5.244  ...  5.480  5.304\n",
              "2011-01-13        5.244                5.150  ...  5.394  5.232\n",
              "2011-01-14        5.150                5.128  ...  5.316  5.122\n",
              "2011-01-18        5.128                4.806  ...  5.128  4.950\n",
              "2011-01-19        4.806                4.524  ...  5.094  4.750\n",
              "2011-01-20        4.524                4.608  ...  4.890  4.474\n",
              "2011-01-21        4.608                4.898  ...  4.718  4.542\n",
              "2011-01-24        4.898                4.936  ...  4.962  4.646\n",
              "2011-01-25        4.936                4.950  ...  4.978  4.804\n",
              "2011-01-26        4.950                4.984  ...  4.976  4.820\n",
              "2011-01-27        4.984                4.802  ...  5.016  4.906\n",
              "2011-01-28        4.802                4.820  ...  4.976  4.750\n",
              "2011-01-31        4.820                4.782  ...  4.824  4.700\n",
              "2011-02-01        4.782                4.788  ...  4.946  4.708\n",
              "\n",
              "[20 rows x 8 columns]"
            ]
          },
          "metadata": {
            "tags": []
          },
          "execution_count": 30
        }
      ]
    },
    {
      "cell_type": "code",
      "metadata": {
        "colab": {
          "base_uri": "https://localhost:8080/"
        },
        "id": "EMygbKOKJh8W",
        "outputId": "bbe8ebe0-d384-46a3-b4b6-bf18d141f3a8"
      },
      "source": [
        "#setting target variable\n",
        "y = data['close_price_shifted']\n",
        "y"
      ],
      "execution_count": null,
      "outputs": [
        {
          "output_type": "execute_result",
          "data": {
            "text/plain": [
              "2011-01-04      5.366000\n",
              "2011-01-05      5.576000\n",
              "2011-01-06      5.648000\n",
              "2011-01-07      5.690000\n",
              "2011-01-10      5.392000\n",
              "                 ...    \n",
              "2020-12-23    661.770020\n",
              "2020-12-24    663.690002\n",
              "2020-12-28    665.989990\n",
              "2020-12-29    694.780029\n",
              "2020-12-30    705.669983\n",
              "Name: close_price_shifted, Length: 2515, dtype: float64"
            ]
          },
          "metadata": {
            "tags": []
          },
          "execution_count": 31
        }
      ]
    },
    {
      "cell_type": "code",
      "metadata": {
        "colab": {
          "base_uri": "https://localhost:8080/",
          "height": 419
        },
        "id": "yFUC7MdPJh3V",
        "outputId": "82ded130-888b-4964-ec37-05acbce159b8"
      },
      "source": [
        "X = data.drop(['close_price_shifted'],axis=1)\n",
        "X"
      ],
      "execution_count": null,
      "outputs": [
        {
          "output_type": "execute_result",
          "data": {
            "text/html": [
              "<div>\n",
              "<style scoped>\n",
              "    .dataframe tbody tr th:only-of-type {\n",
              "        vertical-align: middle;\n",
              "    }\n",
              "\n",
              "    .dataframe tbody tr th {\n",
              "        vertical-align: top;\n",
              "    }\n",
              "\n",
              "    .dataframe thead th {\n",
              "        text-align: right;\n",
              "    }\n",
              "</style>\n",
              "<table border=\"1\" class=\"dataframe\">\n",
              "  <thead>\n",
              "    <tr style=\"text-align: right;\">\n",
              "      <th></th>\n",
              "      <th>close_price</th>\n",
              "      <th>compound</th>\n",
              "      <th>compound_shifted</th>\n",
              "      <th>volume</th>\n",
              "      <th>open_price</th>\n",
              "      <th>high</th>\n",
              "      <th>low</th>\n",
              "    </tr>\n",
              "  </thead>\n",
              "  <tbody>\n",
              "    <tr>\n",
              "      <th>2011-01-04</th>\n",
              "      <td>5.334000</td>\n",
              "      <td>-0.9993</td>\n",
              "      <td>-0.9998</td>\n",
              "      <td>5937000.0</td>\n",
              "      <td>5.332000</td>\n",
              "      <td>5.390000</td>\n",
              "      <td>5.204000</td>\n",
              "    </tr>\n",
              "    <tr>\n",
              "      <th>2011-01-05</th>\n",
              "      <td>5.366000</td>\n",
              "      <td>-0.9998</td>\n",
              "      <td>-0.9997</td>\n",
              "      <td>7233500.0</td>\n",
              "      <td>5.296000</td>\n",
              "      <td>5.380000</td>\n",
              "      <td>5.238000</td>\n",
              "    </tr>\n",
              "    <tr>\n",
              "      <th>2011-01-06</th>\n",
              "      <td>5.576000</td>\n",
              "      <td>-0.9997</td>\n",
              "      <td>-0.9998</td>\n",
              "      <td>10306000.0</td>\n",
              "      <td>5.366000</td>\n",
              "      <td>5.600000</td>\n",
              "      <td>5.362000</td>\n",
              "    </tr>\n",
              "    <tr>\n",
              "      <th>2011-01-07</th>\n",
              "      <td>5.648000</td>\n",
              "      <td>-0.9998</td>\n",
              "      <td>-0.9994</td>\n",
              "      <td>11239500.0</td>\n",
              "      <td>5.600000</td>\n",
              "      <td>5.716000</td>\n",
              "      <td>5.580000</td>\n",
              "    </tr>\n",
              "    <tr>\n",
              "      <th>2011-01-10</th>\n",
              "      <td>5.690000</td>\n",
              "      <td>-0.9994</td>\n",
              "      <td>-0.9995</td>\n",
              "      <td>6713500.0</td>\n",
              "      <td>5.634000</td>\n",
              "      <td>5.736000</td>\n",
              "      <td>5.610000</td>\n",
              "    </tr>\n",
              "    <tr>\n",
              "      <th>...</th>\n",
              "      <td>...</td>\n",
              "      <td>...</td>\n",
              "      <td>...</td>\n",
              "      <td>...</td>\n",
              "      <td>...</td>\n",
              "      <td>...</td>\n",
              "      <td>...</td>\n",
              "    </tr>\n",
              "    <tr>\n",
              "      <th>2020-12-23</th>\n",
              "      <td>645.979980</td>\n",
              "      <td>-0.9995</td>\n",
              "      <td>-0.9966</td>\n",
              "      <td>33173000.0</td>\n",
              "      <td>632.200012</td>\n",
              "      <td>651.500000</td>\n",
              "      <td>622.570007</td>\n",
              "    </tr>\n",
              "    <tr>\n",
              "      <th>2020-12-24</th>\n",
              "      <td>661.770020</td>\n",
              "      <td>-0.9966</td>\n",
              "      <td>-0.9997</td>\n",
              "      <td>22865600.0</td>\n",
              "      <td>642.989990</td>\n",
              "      <td>666.090027</td>\n",
              "      <td>641.000000</td>\n",
              "    </tr>\n",
              "    <tr>\n",
              "      <th>2020-12-28</th>\n",
              "      <td>663.690002</td>\n",
              "      <td>-0.9997</td>\n",
              "      <td>-0.9997</td>\n",
              "      <td>32278600.0</td>\n",
              "      <td>674.510010</td>\n",
              "      <td>681.400024</td>\n",
              "      <td>660.799988</td>\n",
              "    </tr>\n",
              "    <tr>\n",
              "      <th>2020-12-29</th>\n",
              "      <td>665.989990</td>\n",
              "      <td>-0.9997</td>\n",
              "      <td>-0.9997</td>\n",
              "      <td>22910800.0</td>\n",
              "      <td>661.000000</td>\n",
              "      <td>669.900024</td>\n",
              "      <td>655.000000</td>\n",
              "    </tr>\n",
              "    <tr>\n",
              "      <th>2020-12-30</th>\n",
              "      <td>694.780029</td>\n",
              "      <td>-0.9997</td>\n",
              "      <td>-0.9996</td>\n",
              "      <td>42846000.0</td>\n",
              "      <td>672.000000</td>\n",
              "      <td>696.599976</td>\n",
              "      <td>668.359985</td>\n",
              "    </tr>\n",
              "  </tbody>\n",
              "</table>\n",
              "<p>2515 rows × 7 columns</p>\n",
              "</div>"
            ],
            "text/plain": [
              "            close_price  compound  ...        high         low\n",
              "2011-01-04     5.334000   -0.9993  ...    5.390000    5.204000\n",
              "2011-01-05     5.366000   -0.9998  ...    5.380000    5.238000\n",
              "2011-01-06     5.576000   -0.9997  ...    5.600000    5.362000\n",
              "2011-01-07     5.648000   -0.9998  ...    5.716000    5.580000\n",
              "2011-01-10     5.690000   -0.9994  ...    5.736000    5.610000\n",
              "...                 ...       ...  ...         ...         ...\n",
              "2020-12-23   645.979980   -0.9995  ...  651.500000  622.570007\n",
              "2020-12-24   661.770020   -0.9966  ...  666.090027  641.000000\n",
              "2020-12-28   663.690002   -0.9997  ...  681.400024  660.799988\n",
              "2020-12-29   665.989990   -0.9997  ...  669.900024  655.000000\n",
              "2020-12-30   694.780029   -0.9997  ...  696.599976  668.359985\n",
              "\n",
              "[2515 rows x 7 columns]"
            ]
          },
          "metadata": {
            "tags": []
          },
          "execution_count": 33
        }
      ]
    },
    {
      "cell_type": "code",
      "metadata": {
        "colab": {
          "base_uri": "https://localhost:8080/"
        },
        "id": "OMFgGfYZJhwl",
        "outputId": "0a1ffb04-db63-406d-bb09-c9de6daf2ae9"
      },
      "source": [
        "##scaling the records\n",
        "scaler = preprocessing.MinMaxScaler(feature_range=(-1,1))\n",
        "X = np.array(X).reshape((len(X), 7))\n",
        "X = scaler.fit_transform(X)\n",
        "\n",
        "#scaling the target\n",
        "y = np.array(y).reshape((len(y), 1))\n",
        "y = scaler_x.fit_transform(y)\n",
        "\n",
        "X,y"
      ],
      "execution_count": null,
      "outputs": [
        {
          "output_type": "execute_result",
          "data": {
            "text/plain": [
              "(array([[-0.99719678, -0.99929996, -0.99979999, ..., -0.99708724,\n",
              "         -0.99729537, -0.99704278],\n",
              "        [-0.99710411, -0.99979999, -0.99969998, ..., -0.99719467,\n",
              "         -0.99732426, -0.99694039],\n",
              "        [-0.99649597, -0.99969998, -0.99979999, ..., -0.99698577,\n",
              "         -0.99668856, -0.99656698],\n",
              "        ...,\n",
              "        [ 0.90932969, -0.99969998, -0.99969998, ...,  1.        ,\n",
              "          0.95607877,  0.97723366],\n",
              "        [ 0.91599021, -0.99969998, -0.99969998, ...,  0.95968088,\n",
              "          0.92284878,  0.95976744],\n",
              "        [ 0.99936299, -0.99969998, -0.99959998, ...,  0.99250915,\n",
              "          1.        ,  1.        ]]), array([[-0.99714817],\n",
              "        [-0.99654929],\n",
              "        [-0.99634395],\n",
              "        ...,\n",
              "        [ 0.88683939],\n",
              "        [ 0.9689437 ],\n",
              "        [ 1.        ]]))"
            ]
          },
          "metadata": {
            "tags": []
          },
          "execution_count": 43
        }
      ]
    },
    {
      "cell_type": "code",
      "metadata": {
        "colab": {
          "base_uri": "https://localhost:8080/"
        },
        "id": "sJAe1GiIJhsd",
        "outputId": "ee050c50-5377-47da-9709-1db05bdddf45"
      },
      "source": [
        "##Dividing dataset into train and test\n",
        "X_train = X[0:train_data,]\n",
        "X_test = X[train_data+1 : len(X),]\n",
        "y_train = y[0 : train_data]\n",
        "y_test = y[train_data+1 : len(y)]\n",
        "\n",
        "print(\"Number of rows and columns in the training set X:\", X_train.shape, 'and y:', y_train.shape)\n",
        "print('Number of rows and columns in the test set X:', X_test.shape, 'and y:', y_test.shape)"
      ],
      "execution_count": null,
      "outputs": [
        {
          "output_type": "stream",
          "text": [
            "Number of rows and columns in the training set X: (2012, 7) and y: (2012, 1)\n",
            "Number of rows and columns in the test set X: (502, 7) and y: (502, 1)\n"
          ],
          "name": "stdout"
        }
      ]
    },
    {
      "cell_type": "code",
      "metadata": {
        "colab": {
          "base_uri": "https://localhost:8080/"
        },
        "id": "_RjrNdBwOhkE",
        "outputId": "e5405c23-9072-45d0-d009-8d71c77de049"
      },
      "source": [
        "##reshaping the feature dataset\n",
        "X_train = X_train.reshape(X_train.shape+(1,))\n",
        "X_test = X_test.reshape(X_test.shape + (1,))\n",
        "\n",
        "#printing the re shaping dataset\n",
        "print('Shape of Training set X:', X_train.shape)\n",
        "print('Shape of Test set X:', X_test.shape)"
      ],
      "execution_count": null,
      "outputs": [
        {
          "output_type": "stream",
          "text": [
            "Shape of Training set X: (2012, 7, 1)\n",
            "Shape of Test set X: (502, 7, 1)\n"
          ],
          "name": "stdout"
        }
      ]
    },
    {
      "cell_type": "code",
      "metadata": {
        "colab": {
          "base_uri": "https://localhost:8080/"
        },
        "id": "RZSTHcBrOhZs",
        "outputId": "48bb9d01-304b-47bc-94d7-79a8355967c7"
      },
      "source": [
        "##modelling with LSTM\n",
        "np.random.seed(42)\n",
        "\n",
        "model = Sequential()\n",
        "model.add(LSTM(100, return_sequences=True, activation='relu',input_shape = (7,1)))\n",
        "model.add(Dropout(0.1))\n",
        "model.add(LSTM(100, return_sequences=True, activation='relu'))\n",
        "model.add(Dropout(0.1))\n",
        "model.add(LSTM(100, activation='tanh'))\n",
        "model.add(Dropout(0.1))\n",
        "model.add(Dense(1))\n",
        "\n",
        "model.summary()"
      ],
      "execution_count": null,
      "outputs": [
        {
          "output_type": "stream",
          "text": [
            "Model: \"sequential\"\n",
            "_________________________________________________________________\n",
            "Layer (type)                 Output Shape              Param #   \n",
            "=================================================================\n",
            "lstm (LSTM)                  (None, 7, 100)            40800     \n",
            "_________________________________________________________________\n",
            "dropout (Dropout)            (None, 7, 100)            0         \n",
            "_________________________________________________________________\n",
            "lstm_1 (LSTM)                (None, 7, 100)            80400     \n",
            "_________________________________________________________________\n",
            "dropout_1 (Dropout)          (None, 7, 100)            0         \n",
            "_________________________________________________________________\n",
            "lstm_2 (LSTM)                (None, 100)               80400     \n",
            "_________________________________________________________________\n",
            "dropout_2 (Dropout)          (None, 100)               0         \n",
            "_________________________________________________________________\n",
            "dense (Dense)                (None, 1)                 101       \n",
            "=================================================================\n",
            "Total params: 201,701\n",
            "Trainable params: 201,701\n",
            "Non-trainable params: 0\n",
            "_________________________________________________________________\n"
          ],
          "name": "stdout"
        }
      ]
    },
    {
      "cell_type": "code",
      "metadata": {
        "colab": {
          "base_uri": "https://localhost:8080/"
        },
        "id": "v2lFqienOhRm",
        "outputId": "4c835cbd-8ecb-4df7-da24-77d2da51e631"
      },
      "source": [
        "#compiling the model\n",
        "model.compile(loss='mse', optimizer='adam')\n",
        "\n",
        "model.fit(X_train, y_train, validation_split=0.2, epochs=10, batch_size=8, verbose=1)"
      ],
      "execution_count": null,
      "outputs": [
        {
          "output_type": "stream",
          "text": [
            "Epoch 1/10\n",
            "202/202 [==============================] - 7s 18ms/step - loss: 0.1341 - val_loss: 0.0026\n",
            "Epoch 2/10\n",
            "202/202 [==============================] - 3s 15ms/step - loss: 0.0039 - val_loss: 2.8219e-04\n",
            "Epoch 3/10\n",
            "202/202 [==============================] - 3s 15ms/step - loss: 0.0039 - val_loss: 0.0030\n",
            "Epoch 4/10\n",
            "202/202 [==============================] - 3s 15ms/step - loss: 0.0032 - val_loss: 0.0019\n",
            "Epoch 5/10\n",
            "202/202 [==============================] - 3s 15ms/step - loss: 0.0039 - val_loss: 0.0040\n",
            "Epoch 6/10\n",
            "202/202 [==============================] - 3s 15ms/step - loss: 0.0030 - val_loss: 0.0055\n",
            "Epoch 7/10\n",
            "202/202 [==============================] - 3s 15ms/step - loss: 0.0031 - val_loss: 7.5971e-04\n",
            "Epoch 8/10\n",
            "202/202 [==============================] - 3s 15ms/step - loss: 0.0033 - val_loss: 0.0034\n",
            "Epoch 9/10\n",
            "202/202 [==============================] - 3s 15ms/step - loss: 0.0022 - val_loss: 0.0064\n",
            "Epoch 10/10\n",
            "202/202 [==============================] - 3s 15ms/step - loss: 0.0021 - val_loss: 0.0010\n"
          ],
          "name": "stdout"
        },
        {
          "output_type": "execute_result",
          "data": {
            "text/plain": [
              "<tensorflow.python.keras.callbacks.History at 0x7fc5f6a93c10>"
            ]
          },
          "metadata": {
            "tags": []
          },
          "execution_count": 48
        }
      ]
    },
    {
      "cell_type": "code",
      "metadata": {
        "colab": {
          "base_uri": "https://localhost:8080/"
        },
        "id": "WFeYTJx_RmEF",
        "outputId": "cbbb5a29-cc8c-46a1-bddb-a321d618281b"
      },
      "source": [
        "#saving the model\n",
        "model_json = model.to_json()\n",
        "with open('model.json', 'w') as json_file:\n",
        "  json_file.write(model_json)\n",
        "\n",
        "model.save_weights('model.h5')\n",
        "print('model is saved to disk')  "
      ],
      "execution_count": null,
      "outputs": [
        {
          "output_type": "stream",
          "text": [
            "model is saved to disk\n"
          ],
          "name": "stdout"
        }
      ]
    },
    {
      "cell_type": "code",
      "metadata": {
        "colab": {
          "base_uri": "https://localhost:8080/"
        },
        "id": "xKI-3BnPRmAk",
        "outputId": "17996dfe-3248-4f80-dec9-73ac63d1a29e"
      },
      "source": [
        "##Predictions\n",
        "predictions = model.predict(X_test)\n",
        "\n",
        "#unscaling predictions\n",
        "predictions = scaler_x.inverse_transform(np.array(predictions).reshape((len(predictions), 1)))\n",
        "\n",
        "print('predictions:')\n",
        "predictions[0:5]"
      ],
      "execution_count": null,
      "outputs": [
        {
          "output_type": "stream",
          "text": [
            "predictions:\n"
          ],
          "name": "stdout"
        },
        {
          "output_type": "execute_result",
          "data": {
            "text/plain": [
              "array([[-0.85882956],\n",
              "       [-0.852955  ],\n",
              "       [-0.8529871 ],\n",
              "       [-0.85774696],\n",
              "       [-0.8539906 ]], dtype=float32)"
            ]
          },
          "metadata": {
            "tags": []
          },
          "execution_count": 50
        }
      ]
    },
    {
      "cell_type": "code",
      "metadata": {
        "colab": {
          "base_uri": "https://localhost:8080/"
        },
        "id": "4sTYBpPTRl70",
        "outputId": "f3224eb2-97a6-4bf7-e901-202842d27bc0"
      },
      "source": [
        "train_loss = model.evaluate(X_train, y_train, batch_size=1)\n",
        "\n",
        "test_loss = model.evaluate(X_test, y_test, batch_size=1)\n",
        "\n",
        "print('Trainloss=', round(train_loss,4))\n",
        "print('Test loss=', round(test_loss,4))"
      ],
      "execution_count": null,
      "outputs": [
        {
          "output_type": "stream",
          "text": [
            "2012/2012 [==============================] - 6s 3ms/step - loss: 5.1036e-04\n",
            "502/502 [==============================] - 1s 3ms/step - loss: 0.3109\n",
            "Trainloss= 0.0005\n",
            "Test loss= 0.3109\n"
          ],
          "name": "stdout"
        }
      ]
    },
    {
      "cell_type": "code",
      "metadata": {
        "colab": {
          "base_uri": "https://localhost:8080/"
        },
        "id": "3o3EPPs-Rl4t",
        "outputId": "ac23cdf5-f7cd-4155-9413-0324d006a34a"
      },
      "source": [
        "rmse = metrics.mean_squared_error(y_test, predictions)\n",
        "print('root mean squared error=', round(np.sqrt(rmse),4))"
      ],
      "execution_count": null,
      "outputs": [
        {
          "output_type": "stream",
          "text": [
            "root mean squared error= 0.5575\n"
          ],
          "name": "stdout"
        }
      ]
    },
    {
      "cell_type": "code",
      "metadata": {
        "id": "wUyPWiL7U37i"
      },
      "source": [
        "##unscaling datasets\n",
        "X_test = scaler_x.inverse_transform(np.array(X_test).reshape((len(X_test), 7)))\n",
        "\n",
        "y_train = scaler_x.inverse_transform(np.array(y_train).reshape((len(y_train), 1)))\n",
        "y_test = scaler_x.inverse_transform(np.array(y_test).reshape((len(y_test), 1)))\n"
      ],
      "execution_count": null,
      "outputs": []
    },
    {
      "cell_type": "code",
      "metadata": {
        "colab": {
          "base_uri": "https://localhost:8080/",
          "height": 625
        },
        "id": "DVGyKC-hVv63",
        "outputId": "d93e91ae-2398-4256-c6ab-f33988e5ba09"
      },
      "source": [
        "#plotting\n",
        "plt.figure(figsize=(16,10))\n",
        "\n",
        "plt.plot(predictions, label='predicted close price')\n",
        "plt.plot([row[0] for row in y_test], label='testing close price')\n",
        "plt.legend(loc='upper center', bbox_to_anchor=(0.5, -0.05),fancybox=True, shadow=True, ncol=2)\n",
        "plt.show()"
      ],
      "execution_count": null,
      "outputs": [
        {
          "output_type": "display_data",
          "data": {
            "image/png": "[encoded data removed]",
            "text/plain": [
              "<Figure size 1152x720 with 1 Axes>"
            ]
          },
          "metadata": {
            "tags": [],
            "needs_background": "light"
          }
        }
      ]
    },
    {
      "cell_type": "code",
      "metadata": {
        "id": "Jyo5GW3Q_D2S"
      },
      "source": [
        ""
      ],
      "execution_count": null,
      "outputs": []
    },
    {
      "cell_type": "code",
      "metadata": {
        "id": "KLhv6GdS_Dw3"
      },
      "source": [
        ""
      ],
      "execution_count": null,
      "outputs": []
    },
    {
      "cell_type": "code",
      "metadata": {
        "id": "wXbVodIz_Dtw"
      },
      "source": [
        ""
      ],
      "execution_count": null,
      "outputs": []
    },
    {
      "cell_type": "code",
      "metadata": {
        "id": "7eo49BHS_Dom"
      },
      "source": [
        ""
      ],
      "execution_count": null,
      "outputs": []
    },
    {
      "cell_type": "code",
      "metadata": {
        "id": "L4nXJdPk_Dkj"
      },
      "source": [
        ""
      ],
      "execution_count": null,
      "outputs": []
    },
    {
      "cell_type": "code",
      "metadata": {
        "id": "MKpOmieQ_Dgx"
      },
      "source": [
        ""
      ],
      "execution_count": null,
      "outputs": []
    },
    {
      "cell_type": "code",
      "metadata": {
        "id": "HRI2ZWg2_Dba"
      },
      "source": [
        ""
      ],
      "execution_count": null,
      "outputs": []
    }
  ]
}